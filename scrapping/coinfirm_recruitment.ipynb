{
 "cells": [
  {
   "cell_type": "code",
   "execution_count": 1,
   "id": "20d45fc2",
   "metadata": {},
   "outputs": [],
   "source": [
    "import re\n",
    "from bs4 import BeautifulSoup\n",
    "import requests\n",
    "from typing import Dict, Set\n",
    "import pandas as pd"
   ]
  },
  {
   "cell_type": "code",
   "execution_count": 2,
   "id": "b147b8eb",
   "metadata": {},
   "outputs": [],
   "source": [
    "url = 'https://etherscan.io/yieldfarms'"
   ]
  },
  {
   "cell_type": "code",
   "execution_count": 3,
   "id": "bfa97a49",
   "metadata": {},
   "outputs": [],
   "source": [
    "from selenium import webdriver\n",
    "driver = webdriver.Safari()\n",
    "driver.get(url)"
   ]
  },
  {
   "cell_type": "code",
   "execution_count": 4,
   "id": "0f220963",
   "metadata": {},
   "outputs": [],
   "source": [
    "html = driver.page_source\n",
    "soup = BeautifulSoup(html, 'html5lib')"
   ]
  },
  {
   "cell_type": "code",
   "execution_count": 5,
   "id": "3d62190b",
   "metadata": {},
   "outputs": [
    {
     "data": {
      "text/plain": [
       "'\\n\\tEthereum Yield Farms | Etherscan\\n'"
      ]
     },
     "execution_count": 5,
     "metadata": {},
     "output_type": "execute_result"
    }
   ],
   "source": [
    "soup.find('title').text"
   ]
  },
  {
   "cell_type": "code",
   "execution_count": 6,
   "id": "f7dbcfcf",
   "metadata": {},
   "outputs": [],
   "source": [
    "names_list = []\n",
    "symbols_list = []\n",
    "token_ip_list = []\n",
    "dates_list = []\n",
    "links_list = []\n",
    "price_list = []\n",
    "market_cap_list = []"
   ]
  },
  {
   "cell_type": "code",
   "execution_count": 7,
   "id": "81011eca",
   "metadata": {},
   "outputs": [],
   "source": [
    "table = soup.find_all(\"table\")"
   ]
  },
  {
   "cell_type": "code",
   "execution_count": 8,
   "id": "3d38a5dd",
   "metadata": {},
   "outputs": [
    {
     "data": {
      "text/plain": [
       "[<table aria-describedby=\"mytable_info\" class=\"table table-hover w-100 dataTable no-footer\" id=\"mytable\" role=\"grid\" style=\"width: 1509px;\">\n",
       " <thead class=\"thead-light\">\n",
       " <tr role=\"row\"><th aria-label=\"Project\" class=\"sorting_disabled\" colspan=\"1\" rowspan=\"1\" style=\"width: 245px;\">Project</th><th aria-label=\"Symbol\" class=\"sorting_disabled\" colspan=\"1\" rowspan=\"1\" style=\"width: 70px;\">Symbol</th><th aria-label=\"Website\" class=\"sorting_disabled\" colspan=\"1\" rowspan=\"1\" style=\"width: 477px;\">Website</th><th aria-label=\"Token Address\" class=\"sorting_disabled\" colspan=\"1\" rowspan=\"1\" style=\"width: 171px;\">Token Address</th><th aria-controls=\"mytable\" aria-label=\"Date Start: activate to sort column descending\" class=\"sorting_desc\" colspan=\"1\" rowspan=\"1\" style=\"width: 67px;\" tabindex=\"0\">Date Start</th><th aria-controls=\"mytable\" aria-label=\"Price: activate to sort column descending\" class=\"sorting\" colspan=\"1\" rowspan=\"1\" style=\"width: 35px;\" tabindex=\"0\">Price</th><th aria-controls=\"mytable\" aria-label=\"Market Cap: activate to sort column descending\" class=\"sorting\" colspan=\"1\" rowspan=\"1\" style=\"width: 78px;\" tabindex=\"0\">Market Cap</th><th aria-label=\"DYOR\" class=\"sorting_disabled\" colspan=\"1\" rowspan=\"1\" style=\"width: 106px;\">DYOR</th></tr></thead>\n",
       " <tbody>\n",
       " <tr class=\"odd\" role=\"row\"><td><div class=\"media align-items-center\"><img class=\"u-sm-avatar mr-2\" src=\"/token/images/dragonbite_32.png\"/>DragonBite</div></td><td><a class=\"text-primary\" href=\"/token/0x4eed0fa8de12d5a86517f214c2f11586ba2ed88d\">BITE</a></td><td><a href=\"//www.dragonbite.asia\" rel=\"nofollow noopener\" target=\"_blank\">www.dragonbite.asia<i class=\"fa fa-external-link ml-1 small\"></i></a></td><td><a class=\"hash-tag text-truncate\" href=\"/address/0x4eed0fa8de12d5a86517f214c2f11586ba2ed88d\">0x4eed0fa8de12d5a86517f214c2f11586ba2ed88d</a></td><td class=\"sorting_3\">Jun 11, 2021</td><td>-</td><td>-</td><td><div data-original-title=\"\" data-toggle=\"tooltip\" style=\"width:max-content !important;\" title=\"\"></div></td></tr><tr class=\"even\" role=\"row\"><td><div class=\"media align-items-center\"><img class=\"u-sm-avatar mr-2\" src=\"/token/images/jixswap_32.png\"/>JiX Swap</div></td><td><a class=\"text-primary\" href=\"/token/0x99ab51fd0581116db20bd4cb3df1b53fbd3bae54\">JIX</a></td><td><a href=\"//jixswap.com\" rel=\"nofollow noopener\" target=\"_blank\">jixswap.com<i class=\"fa fa-external-link ml-1 small\"></i></a></td><td><a class=\"hash-tag text-truncate\" href=\"/address/0x99ab51fd0581116db20bd4cb3df1b53fbd3bae54\">0x99ab51fd0581116db20bd4cb3df1b53fbd3bae54</a></td><td class=\"sorting_3\">Apr 22, 2021</td><td>-</td><td>-</td><td><div data-original-title=\"\" data-toggle=\"tooltip\" style=\"width:max-content !important;\" title=\"\"></div></td></tr><tr class=\"odd\" role=\"row\"><td><div class=\"media align-items-center\"><img class=\"u-sm-avatar mr-2\" src=\"/token/images/werewolfcoin_32.png\"/>Werewolf Coin</div></td><td><a class=\"text-primary\" href=\"/token/0x38118BDB3B480F570837A4c2e88faC6E83BE6689\">WWC</a></td><td><a href=\"//werewolf.exchange\" rel=\"nofollow noopener\" target=\"_blank\">werewolf.exchange<i class=\"fa fa-external-link ml-1 small\"></i></a></td><td><a class=\"hash-tag text-truncate\" href=\"/address/0x38118BDB3B480F570837A4c2e88faC6E83BE6689\">0x38118BDB3B480F570837A4c2e88faC6E83BE6689</a></td><td class=\"sorting_3\">Apr 16, 2021</td><td>-</td><td>-</td><td><div data-original-title=\"\" data-toggle=\"tooltip\" style=\"width:max-content !important;\" title=\"\"></div></td></tr><tr class=\"even\" role=\"row\"><td><div class=\"media align-items-center\"><img class=\"u-sm-avatar mr-2\" src=\"/token/images/algoeuro_32.png\"/>Algoeuro</div></td><td><a class=\"text-primary\" href=\"/token/0x3c144fc1b34fc1be809fbb2b194f460014e60113\">AEUR</a></td><td><a href=\"//hybridverse.com\" rel=\"nofollow noopener\" target=\"_blank\">hybridverse.com<i class=\"fa fa-external-link ml-1 small\"></i></a></td><td><a class=\"hash-tag text-truncate\" href=\"/address/0x3c144fc1b34fc1be809fbb2b194f460014e60113\">0x3c144fc1b34fc1be809fbb2b194f460014e60113</a></td><td class=\"sorting_3\">Apr 15, 2021</td><td>-</td><td>-</td><td><div data-original-title=\"\" data-toggle=\"tooltip\" style=\"width:max-content !important;\" title=\"\"></div></td></tr><tr class=\"odd\" role=\"row\"><td><div class=\"media align-items-center\"><img class=\"u-sm-avatar mr-2\" src=\"/token/images/redcherryfinance_32.png\"/>Red Cherry</div></td><td><a class=\"text-primary\" href=\"/token/0xd183e7cc76d44b58c5a409053feef27227f4d47a\">RCH </a></td><td><a href=\"//redcherry.finance\" rel=\"nofollow noopener\" target=\"_blank\">redcherry.finance<i class=\"fa fa-external-link ml-1 small\"></i></a></td><td><a class=\"hash-tag text-truncate\" href=\"/address/0xd183e7cc76d44b58c5a409053feef27227f4d47a\">0xd183e7cc76d44b58c5a409053feef27227f4d47a</a></td><td class=\"sorting_3\">Apr 15, 2021</td><td>-</td><td>-</td><td><div data-original-title=\"\" data-toggle=\"tooltip\" style=\"width:max-content !important;\" title=\"\"></div></td></tr><tr class=\"even\" role=\"row\"><td><div class=\"media align-items-center\"><img class=\"u-sm-avatar mr-2\" src=\"/token/images/casinofinance_32.png\"/>Casino Finance</div></td><td><a class=\"text-primary\" href=\"/token/0x0c4bc8D2CCeb6931304Db39ee019403c3B8fb1EF\">CFI</a></td><td><a href=\"//casinofinance.tech\" rel=\"nofollow noopener\" target=\"_blank\">casinofinance.tech<i class=\"fa fa-external-link ml-1 small\"></i></a></td><td><a class=\"hash-tag text-truncate\" href=\"/address/0x0c4bc8D2CCeb6931304Db39ee019403c3B8fb1EF\">0x0c4bc8D2CCeb6931304Db39ee019403c3B8fb1EF</a></td><td class=\"sorting_3\">Apr 15, 2021</td><td>-</td><td>-</td><td><div data-original-title=\"\" data-toggle=\"tooltip\" style=\"width:max-content !important;\" title=\"\"></div></td></tr><tr class=\"odd\" role=\"row\"><td><div class=\"media align-items-center\"><img class=\"u-sm-avatar mr-2\" src=\"/token/images/wazirfarm_32.png\"/>Wazir Farm</div></td><td><a class=\"text-primary\" href=\"/token/0x730d532c39a095b102120f23f278b302665086a2\">WZR</a></td><td><a href=\"//wazir.farm\" rel=\"nofollow noopener\" target=\"_blank\">wazir.farm<i class=\"fa fa-external-link ml-1 small\"></i></a></td><td><a class=\"hash-tag text-truncate\" href=\"/address/0x730d532c39a095b102120f23f278b302665086a2\">0x730d532c39a095b102120f23f278b302665086a2</a></td><td class=\"sorting_3\">Apr 07, 2021</td><td>-</td><td>-</td><td><div data-original-title=\"\" data-toggle=\"tooltip\" style=\"width:max-content !important;\" title=\"\"></div></td></tr><tr class=\"even\" role=\"row\"><td><div class=\"media align-items-center\"><img class=\"u-sm-avatar mr-2\" src=\"/token/images/basketdaogov_32.png\"/>BasketDAO</div></td><td><a class=\"text-primary\" href=\"/token/0x44564d0bd94343f72e3c8a0d22308b7fa71db0bb\">BASK</a></td><td><a href=\"//basketdao.org\" rel=\"nofollow noopener\" target=\"_blank\">basketdao.org<i class=\"fa fa-external-link ml-1 small\"></i></a></td><td><a class=\"hash-tag text-truncate\" href=\"/address/0x44564d0bd94343f72e3c8a0d22308b7fa71db0bb\">0x44564d0bd94343f72e3c8a0d22308b7fa71db0bb</a></td><td class=\"sorting_3\">Apr 03, 2021</td><td>-</td><td>$2,213,111</td><td><div data-original-title=\"\" data-toggle=\"tooltip\" style=\"width:max-content !important;\" title=\"\"></div></td></tr><tr class=\"odd\" role=\"row\"><td><div class=\"media align-items-center\"><img class=\"u-sm-avatar mr-2\" src=\"/token/images/referralproject_32.png\"/>Referral Network</div></td><td><a class=\"text-primary\" href=\"/token/0x0f4b7bec854dbdd70fdf6cf5038f2717b3110672\">REFER</a></td><td><a href=\"//referralproject.network\" rel=\"nofollow noopener\" target=\"_blank\">referralproject.network<i class=\"fa fa-external-link ml-1 small\"></i></a></td><td><a class=\"hash-tag text-truncate\" href=\"/address/0x0f4b7bec854dbdd70fdf6cf5038f2717b3110672\">0x0f4b7bec854dbdd70fdf6cf5038f2717b3110672</a></td><td class=\"sorting_3\">Apr 01, 2021</td><td>-</td><td>-</td><td><div data-original-title=\"\" data-toggle=\"tooltip\" style=\"width:max-content !important;\" title=\"\"></div></td></tr><tr class=\"even\" role=\"row\"><td><div class=\"media align-items-center\"><img class=\"u-sm-avatar mr-2\" src=\"/token/images/xtraprotocol_32.png\"/>XTRA Protocol</div></td><td><a class=\"text-primary\" href=\"/token/0xfc0e2fe627c6329dc7d1fc57b43f30059665e803\">XTR</a></td><td><a href=\"//xtraprotocol.com\" rel=\"nofollow noopener\" target=\"_blank\">xtraprotocol.com<i class=\"fa fa-external-link ml-1 small\"></i></a></td><td><a class=\"hash-tag text-truncate\" href=\"/address/0xfc0e2fe627c6329dc7d1fc57b43f30059665e803\">0xfc0e2fe627c6329dc7d1fc57b43f30059665e803</a></td><td class=\"sorting_3\">Apr 01, 2021</td><td>-</td><td>-</td><td><div data-original-title=\"\" data-toggle=\"tooltip\" style=\"width:max-content !important;\" title=\"\"></div></td></tr><tr class=\"odd\" role=\"row\"><td><div class=\"media align-items-center\"><img class=\"u-sm-avatar mr-2\" src=\"/token/images/unifarmtoken_32.png\"/>UniFarm</div></td><td><a class=\"text-primary\" href=\"/token/0x40986a85b4cfcdb054a6cbfb1210194fee51af88\">UFARM</a></td><td><a href=\"//unifarm.co\" rel=\"nofollow noopener\" target=\"_blank\">unifarm.co<i class=\"fa fa-external-link ml-1 small\"></i></a></td><td><a class=\"hash-tag text-truncate\" href=\"/address/0x40986a85b4cfcdb054a6cbfb1210194fee51af88\">0x40986a85b4cfcdb054a6cbfb1210194fee51af88</a></td><td class=\"sorting_3\">Apr 01, 2021</td><td>-</td><td>-</td><td><div data-original-title=\"\" data-toggle=\"tooltip\" style=\"width:max-content !important;\" title=\"\"></div></td></tr><tr class=\"even\" role=\"row\"><td><div class=\"media align-items-center\"><img class=\"u-sm-avatar mr-2\" src=\"/token/images/spocktoken_32.png\"/>Spock</div></td><td><a class=\"text-primary\" href=\"/token/0x86e82313704851c6e2764bfae8276849ab28c113\">SPOCK</a></td><td><a href=\"//spock.borgswap.exchange\" rel=\"nofollow noopener\" target=\"_blank\">spock.borgswap.exchange<i class=\"fa fa-external-link ml-1 small\"></i></a></td><td><a class=\"hash-tag text-truncate\" href=\"/address/0x86e82313704851c6e2764bfae8276849ab28c113\">0x86e82313704851c6e2764bfae8276849ab28c113</a></td><td class=\"sorting_3\">Mar 24, 2021</td><td>-</td><td>-</td><td><div data-original-title=\"\" data-toggle=\"tooltip\" style=\"width:max-content !important;\" title=\"\"></div></td></tr><tr class=\"odd\" role=\"row\"><td><div class=\"media align-items-center\"><img class=\"u-sm-avatar mr-2\" src=\"/token/images/wasabi_32.png\"/>Wasabix Finance</div></td><td><a class=\"text-primary\" href=\"/token/0x896e145568624a498c5a909187363ae947631503\">WASABI</a></td><td><a href=\"//wasabix.finance\" rel=\"nofollow noopener\" target=\"_blank\">wasabix.finance<i class=\"fa fa-external-link ml-1 small\"></i></a></td><td><a class=\"hash-tag text-truncate\" href=\"/address/0x896e145568624a498c5a909187363ae947631503\">0x896e145568624a498c5a909187363ae947631503</a></td><td class=\"sorting_3\">Mar 23, 2021</td><td>-</td><td>-</td><td><div data-original-title=\"\" data-toggle=\"tooltip\" style=\"width:max-content !important;\" title=\"\"></div></td></tr><tr class=\"even\" role=\"row\"><td><div class=\"media align-items-center\"><img class=\"u-sm-avatar mr-2\" src=\"/token/images/lambotoken_32.png\"/>Lambo Defi Network</div></td><td><a class=\"text-primary\" href=\"/token/0x6da11821ac676d7ef8b31b2ace5d025429f5af44\">LAMBO</a></td><td><a href=\"//lambodefi.network\" rel=\"nofollow noopener\" target=\"_blank\">lambodefi.network<i class=\"fa fa-external-link ml-1 small\"></i></a></td><td><a class=\"hash-tag text-truncate\" href=\"/address/0x6da11821ac676d7ef8b31b2ace5d025429f5af44\">0x6da11821ac676d7ef8b31b2ace5d025429f5af44</a></td><td class=\"sorting_3\">Mar 20, 2021</td><td>-</td><td>-</td><td><div data-original-title=\"\" data-toggle=\"tooltip\" style=\"width:max-content !important;\" title=\"\"></div></td></tr><tr class=\"odd\" role=\"row\"><td><div class=\"media align-items-center\"><img class=\"u-sm-avatar mr-2\" src=\"/token/images/thecollective_32.png\"/>Collective</div></td><td><a class=\"text-primary\" href=\"/token/0x75739d5944534115d7c54ee8c73f186d793bae02\">CO2</a></td><td><a href=\"//thecollectivegroup.org\" rel=\"nofollow noopener\" target=\"_blank\">thecollectivegroup.org<i class=\"fa fa-external-link ml-1 small\"></i></a></td><td><a class=\"hash-tag text-truncate\" href=\"/address/0x75739d5944534115d7c54ee8c73f186d793bae02\">0x75739d5944534115d7c54ee8c73f186d793bae02</a></td><td class=\"sorting_3\">Mar 15, 2021</td><td>-</td><td>-</td><td><div data-original-title=\"\" data-toggle=\"tooltip\" style=\"width:max-content !important;\" title=\"\"></div></td></tr><tr class=\"even\" role=\"row\"><td><div class=\"media align-items-center\"><img class=\"u-sm-avatar mr-2\" src=\"/token/images/yearnyfinetwork_32.png\"/>Yearnyfi Network</div></td><td><a class=\"text-primary\" href=\"/token/0xdeaa665ab71785ccf576dc76e5fcb5a2283ea0c6\">YNI</a></td><td><a href=\"//yearnyfi.network\" rel=\"nofollow noopener\" target=\"_blank\">yearnyfi.network<i class=\"fa fa-external-link ml-1 small\"></i></a></td><td><a class=\"hash-tag text-truncate\" href=\"/address/0xdeaa665ab71785ccf576dc76e5fcb5a2283ea0c6\">0xdeaa665ab71785ccf576dc76e5fcb5a2283ea0c6</a></td><td class=\"sorting_3\">Feb 27, 2021</td><td>-</td><td>-</td><td><div data-original-title=\"\" data-toggle=\"tooltip\" style=\"width:max-content !important;\" title=\"\"></div></td></tr><tr class=\"odd\" role=\"row\"><td><div class=\"media align-items-center\"><img class=\"u-sm-avatar mr-2\" src=\"/token/images/ikomp_32.png\"/>iKOMP</div></td><td><a class=\"text-primary\" href=\"/token/0x6a625DDb2e2A2de0257C5129364dd80Bb4AfA3B9\">IKOMP </a></td><td><a href=\"//komp.app\" rel=\"nofollow noopener\" target=\"_blank\">komp.app<i class=\"fa fa-external-link ml-1 small\"></i></a></td><td><a class=\"hash-tag text-truncate\" href=\"/address/0x6a625DDb2e2A2de0257C5129364dd80Bb4AfA3B9\">0x6a625DDb2e2A2de0257C5129364dd80Bb4AfA3B9</a></td><td class=\"sorting_3\">Feb 26, 2021</td><td>-</td><td>-</td><td><div data-original-title=\"\" data-toggle=\"tooltip\" style=\"width:max-content !important;\" title=\"\"></div></td></tr><tr class=\"even\" role=\"row\"><td><div class=\"media align-items-center\"><img class=\"u-sm-avatar mr-2\" src=\"/token/images/infinityyield_32.png\"/>Infinity Yield</div></td><td><a class=\"text-primary\" href=\"/token/0xf19b0aa2c998b3ea6c2bac30607d5e8e04106ee7\">IFY</a></td><td><a href=\"//infinityyield.farm\" rel=\"nofollow noopener\" target=\"_blank\">infinityyield.farm<i class=\"fa fa-external-link ml-1 small\"></i></a></td><td><a class=\"hash-tag text-truncate\" href=\"/address/0xf19b0aa2c998b3ea6c2bac30607d5e8e04106ee7\">0xf19b0aa2c998b3ea6c2bac30607d5e8e04106ee7</a></td><td class=\"sorting_3\">Feb 23, 2021</td><td>-</td><td>-</td><td><div data-original-title=\"\" data-toggle=\"tooltip\" style=\"width:max-content !important;\" title=\"\"></div></td></tr><tr class=\"odd\" role=\"row\"><td><div class=\"media align-items-center\"><img class=\"u-sm-avatar mr-2\" src=\"/token/images/rapidswap_32.png\"/>Rapid Swap</div></td><td><a class=\"text-primary\" href=\"/token/0x3719c13d28a5adaba97b6c343b1f51e57b6b6e7d\">RAPID</a></td><td><a href=\"//rapidswap.app\" rel=\"nofollow noopener\" target=\"_blank\">rapidswap.app<i class=\"fa fa-external-link ml-1 small\"></i></a></td><td><a class=\"hash-tag text-truncate\" href=\"/address/0x3719c13d28a5adaba97b6c343b1f51e57b6b6e7d\">0x3719c13d28a5adaba97b6c343b1f51e57b6b6e7d</a></td><td class=\"sorting_3\">Feb 21, 2021</td><td>-</td><td>-</td><td><div data-original-title=\"\" data-toggle=\"tooltip\" style=\"width:max-content !important;\" title=\"\"></div></td></tr><tr class=\"even\" role=\"row\"><td><div class=\"media align-items-center\"><img class=\"u-sm-avatar mr-2\" src=\"/token/images/darkdefi_32.png\"/>Dark DeFi</div></td><td><a class=\"text-primary\" href=\"/token/0x2d98c5e92da2204bc2e9142373ed209a7ca9850a\">DARK</a></td><td><a href=\"//darkdefi.org\" rel=\"nofollow noopener\" target=\"_blank\">darkdefi.org<i class=\"fa fa-external-link ml-1 small\"></i></a></td><td><a class=\"hash-tag text-truncate\" href=\"/address/0x2d98c5e92da2204bc2e9142373ed209a7ca9850a\">0x2d98c5e92da2204bc2e9142373ed209a7ca9850a</a></td><td class=\"sorting_3\">Feb 20, 2021</td><td>-</td><td>-</td><td><div data-original-title=\"\" data-toggle=\"tooltip\" style=\"width:max-content !important;\" title=\"\"></div></td></tr><tr class=\"odd\" role=\"row\"><td><div class=\"media align-items-center\"><img class=\"u-sm-avatar mr-2\" src=\"/token/images/furtoken_32.png\"/>Fur Finance</div></td><td><a class=\"text-primary\" href=\"/token/0xbacdbe7cd52bdf11065210863139e9dad875a896\">FUR</a></td><td><a href=\"//fur.finance\" rel=\"nofollow noopener\" target=\"_blank\">fur.finance<i class=\"fa fa-external-link ml-1 small\"></i></a></td><td><a class=\"hash-tag text-truncate\" href=\"/address/0xbacdbe7cd52bdf11065210863139e9dad875a896\">0xbacdbe7cd52bdf11065210863139e9dad875a896</a></td><td class=\"sorting_3\">Feb 19, 2021</td><td>-</td><td>-</td><td><div data-original-title=\"\" data-toggle=\"tooltip\" style=\"width:max-content !important;\" title=\"\"></div></td></tr><tr class=\"even\" role=\"row\"><td><div class=\"media align-items-center\"><img class=\"u-sm-avatar mr-2\" src=\"/token/images/potterswaptoken_32.png\"/>PotterSwap</div></td><td><a class=\"text-primary\" href=\"/token/0x9dcd36e6f3dd1186d902de9241e10c2c2171a2ef\">PSW</a></td><td><a href=\"//potterswap.org\" rel=\"nofollow noopener\" target=\"_blank\">potterswap.org<i class=\"fa fa-external-link ml-1 small\"></i></a></td><td><a class=\"hash-tag text-truncate\" href=\"/address/0x9dcd36e6f3dd1186d902de9241e10c2c2171a2ef\">0x9dcd36e6f3dd1186d902de9241e10c2c2171a2ef</a></td><td class=\"sorting_3\">Feb 15, 2021</td><td>-</td><td>-</td><td><div data-original-title=\"\" data-toggle=\"tooltip\" style=\"width:max-content !important;\" title=\"\"></div></td></tr><tr class=\"odd\" role=\"row\"><td><div class=\"media align-items-center\"><img class=\"u-sm-avatar mr-2\" src=\"/token/images/yfbitcoin_32.png\"/>YFBitcoin (YFBTC)</div></td><td><a class=\"text-primary\" href=\"/token/0xff034D12353867fC4228f4Ae3E689CD6dCAad120\">YFBTC</a></td><td><a href=\"//yfbtc.net\" rel=\"nofollow noopener\" target=\"_blank\">yfbtc.net<i class=\"fa fa-external-link ml-1 small\"></i></a></td><td><a class=\"hash-tag text-truncate\" href=\"/address/0xff034D12353867fC4228f4Ae3E689CD6dCAad120\">0xff034D12353867fC4228f4Ae3E689CD6dCAad120</a></td><td class=\"sorting_3\">Feb 12, 2021</td><td>-</td><td>-</td><td><div data-original-title=\"\" data-toggle=\"tooltip\" style=\"width:max-content !important;\" title=\"\"></div></td></tr><tr class=\"even\" role=\"row\"><td><div class=\"media align-items-center\"><img class=\"u-sm-avatar mr-2\" src=\"/token/images/shielddao_32.png\"/>Shield</div></td><td><a class=\"text-primary\" href=\"/token/0x45eefd478f1cb04c1a183c29c7bca7c50a17bb23\">SHD</a></td><td><a href=\"//shielddao.app\" rel=\"nofollow noopener\" target=\"_blank\">shielddao.app<i class=\"fa fa-external-link ml-1 small\"></i></a></td><td><a class=\"hash-tag text-truncate\" href=\"/address/0x45eefd478f1cb04c1a183c29c7bca7c50a17bb23\">0x45eefd478f1cb04c1a183c29c7bca7c50a17bb23</a></td><td class=\"sorting_3\">Feb 10, 2021</td><td>-</td><td>-</td><td><div data-original-title=\"\" data-toggle=\"tooltip\" style=\"width:max-content !important;\" title=\"\"></div></td></tr><tr class=\"odd\" role=\"row\"><td><div class=\"media align-items-center\"><img class=\"u-sm-avatar mr-2\" src=\"/token/images/kohima_32.png\"/>KOHIMA FINANCE</div></td><td><a class=\"text-primary\" href=\"/token/0x2e7483e8c9905f40c638987748e7e152464c6dc2\">KHM</a></td><td><a href=\"//kohima.finance\" rel=\"nofollow noopener\" target=\"_blank\">kohima.finance<i class=\"fa fa-external-link ml-1 small\"></i></a></td><td><a class=\"hash-tag text-truncate\" href=\"/address/0x2e7483e8c9905f40c638987748e7e152464c6dc2\">0x2e7483e8c9905f40c638987748e7e152464c6dc2</a></td><td class=\"sorting_3\">Feb 10, 2021</td><td>-</td><td>-</td><td><div data-original-title=\"\" data-toggle=\"tooltip\" style=\"width:max-content !important;\" title=\"\"></div></td></tr></tbody>\n",
       " </table>,\n",
       " <table aria-describedby=\"upcomingTable_info\" class=\"table table-hover w-100 dataTable no-footer\" id=\"upcomingTable\" role=\"grid\" style=\"width: 0px;\">\n",
       " <thead class=\"thead-light\">\n",
       " <tr role=\"row\"><th aria-label=\"Project\" class=\"sorting_disabled\" colspan=\"1\" rowspan=\"1\" style=\"width: 0px;\">Project</th><th aria-label=\"Symbol\" class=\"sorting_disabled\" colspan=\"1\" rowspan=\"1\" style=\"width: 0px;\">Symbol</th><th aria-label=\"Website\" class=\"sorting_disabled\" colspan=\"1\" rowspan=\"1\" style=\"width: 0px;\">Website</th><th aria-label=\"Token Address\" class=\"sorting_disabled\" colspan=\"1\" rowspan=\"1\" style=\"width: 0px;\">Token Address</th><th aria-controls=\"upcomingTable\" aria-label=\"Date Start: activate to sort column descending\" class=\"sorting_desc\" colspan=\"1\" rowspan=\"1\" style=\"width: 0px;\" tabindex=\"0\">Date Start</th><th aria-controls=\"upcomingTable\" aria-label=\"Price: activate to sort column descending\" class=\"sorting\" colspan=\"1\" rowspan=\"1\" style=\"width: 0px;\" tabindex=\"0\">Price</th><th aria-controls=\"upcomingTable\" aria-label=\"Market Cap: activate to sort column descending\" class=\"sorting\" colspan=\"1\" rowspan=\"1\" style=\"width: 0px;\" tabindex=\"0\">Market Cap</th><th aria-label=\"DYOR\" class=\"sorting_disabled\" colspan=\"1\" rowspan=\"1\" style=\"width: 0px;\">DYOR</th></tr></thead>\n",
       " <tbody>\n",
       " <tr class=\"odd\" role=\"row\"><td><div class=\"media align-items-center\"><img class=\"u-sm-avatar mr-2\" src=\"/token/images/logictoken_32.png\"/>Logic Finance</div></td><td><a class=\"text-primary\" href=\"/token/0xda5be69074afd12354173b4350ec9117e73e92e2\">LOGIC</a></td><td><a href=\"//logic.finance\" rel=\"nofollow noopener\" target=\"_blank\">logic.finance<i class=\"fa fa-external-link ml-1 small\"></i></a></td><td><a class=\"hash-tag text-truncate\" href=\"/address/0xda5be69074afd12354173b4350ec9117e73e92e2\">0xda5be69074afd12354173b4350ec9117e73e92e2</a></td><td class=\"sorting_3\">TBC</td><td>-</td><td>-</td><td><div data-original-title=\"\" data-toggle=\"tooltip\" style=\"width:max-content !important;\" title=\"\"></div></td></tr><tr class=\"even\" role=\"row\"><td><div class=\"media align-items-center\"><img class=\"u-sm-avatar mr-2\" src=\"/token/images/unidark_32.png\"/>Unidark</div></td><td><a class=\"text-primary\" href=\"/token/0xafb43414e6344f6310f29e9d7dc95d817ffd89e8\">DARK</a></td><td><a href=\"//unidark.org\" rel=\"nofollow noopener\" target=\"_blank\">unidark.org<i class=\"fa fa-external-link ml-1 small\"></i></a></td><td><a class=\"hash-tag text-truncate\" href=\"/address/0xafb43414e6344f6310f29e9d7dc95d817ffd89e8\">0xafb43414e6344f6310f29e9d7dc95d817ffd89e8</a></td><td class=\"sorting_3\">TBC</td><td>-</td><td>-</td><td><div data-original-title=\"\" data-toggle=\"tooltip\" style=\"width:max-content !important;\" title=\"\"></div></td></tr><tr class=\"odd\" role=\"row\"><td><div class=\"media align-items-center\"><img class=\"u-sm-avatar mr-2\" src=\"/token/images/sheeptoken_32.png\"/>Sheep</div></td><td><a class=\"text-primary\" href=\"/token/0xCa5c8952E4D5e42d40659FF96BF425254113271e\">SHEEP</a></td><td><a href=\"//sheeptoken.info\" rel=\"nofollow noopener\" target=\"_blank\">sheeptoken.info<i class=\"fa fa-external-link ml-1 small\"></i></a></td><td><a class=\"hash-tag text-truncate\" href=\"/address/0xCa5c8952E4D5e42d40659FF96BF425254113271e\">0xCa5c8952E4D5e42d40659FF96BF425254113271e</a></td><td class=\"sorting_3\">TBC</td><td>-</td><td>-</td><td><div data-original-title=\"\" data-toggle=\"tooltip\" style=\"width:max-content !important;\" title=\"\"></div></td></tr><tr class=\"even\" role=\"row\"><td><div class=\"media align-items-center\"><img class=\"u-sm-avatar mr-2\" src=\"/token/images/abridgenetwork_32.png\"/>Abridge Network</div></td><td><a class=\"text-primary\" href=\"/token/0x9183316f7bec5c9bd1e85dbe37ba674e9ceeabbe\">ABN</a></td><td><a href=\"//abridge.network\" rel=\"nofollow noopener\" target=\"_blank\">abridge.network<i class=\"fa fa-external-link ml-1 small\"></i></a></td><td><a class=\"hash-tag text-truncate\" href=\"/address/0x9183316f7bec5c9bd1e85dbe37ba674e9ceeabbe\">0x9183316f7bec5c9bd1e85dbe37ba674e9ceeabbe</a></td><td class=\"sorting_3\">TBC</td><td>-</td><td>-</td><td><div data-original-title=\"\" data-toggle=\"tooltip\" style=\"width:max-content !important;\" title=\"\"></div></td></tr><tr class=\"odd\" role=\"row\"><td><div class=\"media align-items-center\"><img class=\"u-sm-avatar mr-2\" src=\"/token/images/pumpgastoken_32.png\"/>Pump Gas Platform</div></td><td><a class=\"text-primary\" href=\"/token/0x61f532ef937e809567d69531ae533595402bb4a8\">PUMP</a></td><td><a href=\"//pumpgasplatform.com\" rel=\"nofollow noopener\" target=\"_blank\">pumpgasplatform.com<i class=\"fa fa-external-link ml-1 small\"></i></a></td><td><a class=\"hash-tag text-truncate\" href=\"/address/0x61f532ef937e809567d69531ae533595402bb4a8\">0x61f532ef937e809567d69531ae533595402bb4a8</a></td><td class=\"sorting_3\">TBC</td><td>-</td><td>-</td><td><div data-original-title=\"\" data-toggle=\"tooltip\" style=\"width:max-content !important;\" title=\"\"></div></td></tr><tr class=\"even\" role=\"row\"><td><div class=\"media align-items-center\"><img class=\"u-sm-avatar mr-2\" src=\"/token/images/hopesoviet_32.png\"/>Soviet Finance</div></td><td><a class=\"text-primary\" href=\"/token/0x9d83d493688caf9d34f04b3c0d50d197d44abbca\">HSOV</a></td><td><a href=\"//soviet.finance\" rel=\"nofollow noopener\" target=\"_blank\">soviet.finance<i class=\"fa fa-external-link ml-1 small\"></i></a></td><td><a class=\"hash-tag text-truncate\" href=\"/address/0x9d83d493688caf9d34f04b3c0d50d197d44abbca\">0x9d83d493688caf9d34f04b3c0d50d197d44abbca</a></td><td class=\"sorting_3\">TBC</td><td>-</td><td>-</td><td><div data-original-title=\"\" data-toggle=\"tooltip\" style=\"width:max-content !important;\" title=\"\"></div></td></tr><tr class=\"odd\" role=\"row\"><td><div class=\"media align-items-center\"><img class=\"u-sm-avatar mr-2\" src=\"/token/images/tramsv1token_32.png\"/>TRAMS.io</div></td><td><a class=\"text-primary\" href=\"/token/0x38a6741251e849ddad46619b720a6970f73ad25a\">TRAMSV1</a></td><td><a href=\"//trams.io\" rel=\"nofollow noopener\" target=\"_blank\">trams.io<i class=\"fa fa-external-link ml-1 small\"></i></a></td><td><a class=\"hash-tag text-truncate\" href=\"/address/0x38a6741251e849ddad46619b720a6970f73ad25a\">0x38a6741251e849ddad46619b720a6970f73ad25a</a></td><td class=\"sorting_3\">TBC</td><td>-</td><td>-</td><td><div data-original-title=\"\" data-toggle=\"tooltip\" style=\"width:max-content !important;\" title=\"\"></div></td></tr><tr class=\"even\" role=\"row\"><td><div class=\"media align-items-center\"><img class=\"u-sm-avatar mr-2\" src=\"/token/images/xuniifinance_32.png\"/>xunii Finance</div></td><td><a class=\"text-primary\" href=\"/token/0x5a50b3d55e9a1089029824a26caaa8f2abfc4bb0\">XUNII</a></td><td><a href=\"//xunii.finance\" rel=\"nofollow noopener\" target=\"_blank\">xunii.finance<i class=\"fa fa-external-link ml-1 small\"></i></a></td><td><a class=\"hash-tag text-truncate\" href=\"/address/0x5a50b3d55e9a1089029824a26caaa8f2abfc4bb0\">0x5a50b3d55e9a1089029824a26caaa8f2abfc4bb0</a></td><td class=\"sorting_3\">TBC</td><td>-</td><td>-</td><td><div data-original-title=\"\" data-toggle=\"tooltip\" style=\"width:max-content !important;\" title=\"\"></div></td></tr><tr class=\"odd\" role=\"row\"><td><div class=\"media align-items-center\"><img class=\"u-sm-avatar mr-2\" src=\"/token/images/ethyfi_32.png\"/>ETHYFI</div></td><td><a class=\"text-primary\" href=\"/token/0x1cff5c211f0f129b6ecdc6aa95308b6b6b20f093\">EFI</a></td><td><a href=\"//ethyfi.finance\" rel=\"nofollow noopener\" target=\"_blank\">ethyfi.finance<i class=\"fa fa-external-link ml-1 small\"></i></a></td><td><a class=\"hash-tag text-truncate\" href=\"/address/0x1cff5c211f0f129b6ecdc6aa95308b6b6b20f093\">0x1cff5c211f0f129b6ecdc6aa95308b6b6b20f093</a></td><td class=\"sorting_3\">TBC</td><td>-</td><td>-</td><td><div data-original-title=\"\" data-toggle=\"tooltip\" style=\"width:max-content !important;\" title=\"\"></div></td></tr><tr class=\"even\" role=\"row\"><td><div class=\"media align-items-center\"><img class=\"u-sm-avatar mr-2\" src=\"/token/images/yincomefinance_32.png\"/>Yearn Income</div></td><td><a class=\"text-primary\" href=\"/token/0x6de7c3f720677c1dd9e92fde3f22db54b3d94de1\">YINCOME</a></td><td><a href=\"//yincome.finance\" rel=\"nofollow noopener\" target=\"_blank\">yincome.finance<i class=\"fa fa-external-link ml-1 small\"></i></a></td><td><a class=\"hash-tag text-truncate\" href=\"/address/0x6de7c3f720677c1dd9e92fde3f22db54b3d94de1\">0x6de7c3f720677c1dd9e92fde3f22db54b3d94de1</a></td><td class=\"sorting_3\">TBC</td><td>-</td><td>-</td><td><div data-original-title=\"\" data-toggle=\"tooltip\" style=\"width:max-content !important;\" title=\"\"></div></td></tr><tr class=\"odd\" role=\"row\"><td><div class=\"media align-items-center\"><img class=\"u-sm-avatar mr-2\" src=\"/token/images/koolaid_32.png\"/>Don't Drink The Kool-Aid</div></td><td><a class=\"text-primary\" href=\"/token/0x9d695e811beb55c98b1b3668295e390d33de5930\">KOOL</a></td><td><a href=\"//kool.lol\" rel=\"nofollow noopener\" target=\"_blank\">kool.lol<i class=\"fa fa-external-link ml-1 small\"></i></a></td><td><a class=\"hash-tag text-truncate\" href=\"/address/0x9d695e811beb55c98b1b3668295e390d33de5930\">0x9d695e811beb55c98b1b3668295e390d33de5930</a></td><td class=\"sorting_3\">TBC</td><td>-</td><td>-</td><td><div data-original-title=\"\" data-toggle=\"tooltip\" style=\"width:max-content !important;\" title=\"\"></div></td></tr><tr class=\"even\" role=\"row\"><td><div class=\"media align-items-center\"><img class=\"u-sm-avatar mr-2\" src=\"/token/images/linkfi_32.png\"/>LinkFi</div></td><td><a class=\"text-primary\" href=\"/token/0x7e4c30bdf4198918886c12bc15d962620270c23c\">LFI</a></td><td><a href=\"//linkfi.ai\" rel=\"nofollow noopener\" target=\"_blank\">linkfi.ai<i class=\"fa fa-external-link ml-1 small\"></i></a></td><td><a class=\"hash-tag text-truncate\" href=\"/address/0x7e4c30bdf4198918886c12bc15d962620270c23c\">0x7e4c30bdf4198918886c12bc15d962620270c23c</a></td><td class=\"sorting_3\">TBC</td><td>-</td><td>-</td><td><div data-original-title=\"\" data-toggle=\"tooltip\" style=\"width:max-content !important;\" title=\"\"></div></td></tr><tr class=\"odd\" role=\"row\"><td><div class=\"media align-items-center\"><img class=\"u-sm-avatar mr-2\" src=\"/token/images/yfvwfinance_32.png\"/>YFVW Finance</div></td><td><a class=\"text-primary\" href=\"/token/0x5e7ecd90703337f3046f0e040071eb3277d8d1c9\">YFVW</a></td><td><a href=\"//yfvw.finance\" rel=\"nofollow noopener\" target=\"_blank\">yfvw.finance<i class=\"fa fa-external-link ml-1 small\"></i></a></td><td><a class=\"hash-tag text-truncate\" href=\"/address/0x5e7ecd90703337f3046f0e040071eb3277d8d1c9\">0x5e7ecd90703337f3046f0e040071eb3277d8d1c9</a></td><td class=\"sorting_3\">TBC</td><td>-</td><td>-</td><td><div data-original-title=\"\" data-toggle=\"tooltip\" style=\"width:max-content !important;\" title=\"\"></div></td></tr><tr class=\"even\" role=\"row\"><td><div class=\"media align-items-center\"><img class=\"u-sm-avatar mr-2\" src=\"/token/images/ahoy_32.png\"/>Ahoy</div></td><td><a class=\"text-primary\" href=\"/token/0x387530f3234a288f4c71a7cfc2dcc326bdf3fba4\">AHY</a></td><td><a href=\"//ahoyproject.com\" rel=\"nofollow noopener\" target=\"_blank\">ahoyproject.com<i class=\"fa fa-external-link ml-1 small\"></i></a></td><td><a class=\"hash-tag text-truncate\" href=\"/address/0x387530f3234a288f4c71a7cfc2dcc326bdf3fba4\">0x387530f3234a288f4c71a7cfc2dcc326bdf3fba4</a></td><td class=\"sorting_3\">TBC</td><td>-</td><td>-</td><td><div data-original-title=\"\" data-toggle=\"tooltip\" style=\"width:max-content !important;\" title=\"\"></div></td></tr><tr class=\"odd\" role=\"row\"><td><div class=\"media align-items-center\"><img class=\"u-sm-avatar mr-2\" src=\"/token/images/xgem_32.png\"/>xGem</div></td><td><a class=\"text-primary\" href=\"/token/0x3e60f39208ac7b8e80eaaff8bf2ae71949a9aa85\">XGEM</a></td><td><a href=\"//xgem.org\" rel=\"nofollow noopener\" target=\"_blank\">xgem.org<i class=\"fa fa-external-link ml-1 small\"></i></a></td><td><a class=\"hash-tag text-truncate\" href=\"/address/0x3e60f39208ac7b8e80eaaff8bf2ae71949a9aa85\">0x3e60f39208ac7b8e80eaaff8bf2ae71949a9aa85</a></td><td class=\"sorting_3\">TBC</td><td>-</td><td>-</td><td><div data-original-title=\"\" data-toggle=\"tooltip\" style=\"width:max-content !important;\" title=\"\"></div></td></tr><tr class=\"even\" role=\"row\"><td><div class=\"media align-items-center\"><img class=\"u-sm-avatar mr-2\" src=\"/token/images/fishy_32.png\"/>Fishy Finance</div></td><td><a class=\"text-primary\" href=\"/token/0x7408ec9eb983660d3cec5fd16387b872550fc3bf\">FIFI</a></td><td><a href=\"//fishy.finance\" rel=\"nofollow noopener\" target=\"_blank\">fishy.finance<i class=\"fa fa-external-link ml-1 small\"></i></a></td><td><a class=\"hash-tag text-truncate\" href=\"/address/0x7408ec9eb983660d3cec5fd16387b872550fc3bf\">0x7408ec9eb983660d3cec5fd16387b872550fc3bf</a></td><td class=\"sorting_3\">TBC</td><td>-</td><td>-</td><td><div data-original-title=\"\" data-toggle=\"tooltip\" style=\"width:max-content !important;\" title=\"\"></div></td></tr><tr class=\"odd\" role=\"row\"><td><div class=\"media align-items-center\"><img class=\"u-sm-avatar mr-2\" src=\"/token/images/midasmds_32.png\"/>MIDAS</div></td><td><a class=\"text-primary\" href=\"/token/0x0290b327a8583bd6fa63c130b732a808864e55fc\">MDS</a></td><td><a href=\"//midas-defi.finance\" rel=\"nofollow noopener\" target=\"_blank\">midas-defi.finance<i class=\"fa fa-external-link ml-1 small\"></i></a></td><td><a class=\"hash-tag text-truncate\" href=\"/address/0x0290b327a8583bd6fa63c130b732a808864e55fc\">0x0290b327a8583bd6fa63c130b732a808864e55fc</a></td><td class=\"sorting_3\">TBC</td><td>-</td><td>-</td><td><div data-original-title=\"\" data-toggle=\"tooltip\" style=\"width:max-content !important;\" title=\"\"></div></td></tr><tr class=\"even\" role=\"row\"><td><div class=\"media align-items-center\"><img class=\"u-sm-avatar mr-2\" src=\"/token/images/yieldtrustgovernancetoken_32.png\"/>Yield Trust</div></td><td><a class=\"text-primary\" href=\"/token/0xb11e578e40ad1ee39132eb3717aabb3053c13eff\">YTRU</a></td><td><a href=\"//ytru.finance\" rel=\"nofollow noopener\" target=\"_blank\">ytru.finance<i class=\"fa fa-external-link ml-1 small\"></i></a></td><td><a class=\"hash-tag text-truncate\" href=\"/address/0xb11e578e40ad1ee39132eb3717aabb3053c13eff\">0xb11e578e40ad1ee39132eb3717aabb3053c13eff</a></td><td class=\"sorting_3\">TBC</td><td>-</td><td>-</td><td><div data-original-title=\"\" data-toggle=\"tooltip\" style=\"width:max-content !important;\" title=\"\"></div></td></tr><tr class=\"odd\" role=\"row\"><td><div class=\"media align-items-center\"><img class=\"u-sm-avatar mr-2\" src=\"/token/images/defhold_32.png\"/>DefHold</div></td><td><a class=\"text-primary\" href=\"/token/0xe481f2311c774564d517d015e678c2736a25ddd3\">DEFO</a></td><td><a href=\"//defhold.com\" rel=\"nofollow noopener\" target=\"_blank\">defhold.com<i class=\"fa fa-external-link ml-1 small\"></i></a></td><td><a class=\"hash-tag text-truncate\" href=\"/address/0xe481f2311c774564d517d015e678c2736a25ddd3\">0xe481f2311c774564d517d015e678c2736a25ddd3</a></td><td class=\"sorting_3\">TBC</td><td>-</td><td>-</td><td><div data-original-title=\"\" data-toggle=\"tooltip\" style=\"width:max-content !important;\" title=\"\"></div></td></tr><tr class=\"even\" role=\"row\"><td><div class=\"media align-items-center\"><img class=\"u-sm-avatar mr-2\" src=\"/token/images/sergsave_32.png\"/>Serg Save Link </div></td><td><a class=\"text-primary\" href=\"/token/0x79BA92DDA26FcE15e1e9af47D5cFdFD2A093E000\">SERGS</a></td><td><a href=\"//sergsave.link\" rel=\"nofollow noopener\" target=\"_blank\">sergsave.link<i class=\"fa fa-external-link ml-1 small\"></i></a></td><td><a class=\"hash-tag text-truncate\" href=\"/address/0x79BA92DDA26FcE15e1e9af47D5cFdFD2A093E000\">0x79BA92DDA26FcE15e1e9af47D5cFdFD2A093E000</a></td><td class=\"sorting_3\">TBC</td><td>-</td><td>-</td><td><div data-original-title=\"\" data-toggle=\"tooltip\" style=\"width:max-content !important;\" title=\"\"></div></td></tr><tr class=\"odd\" role=\"row\"><td><div class=\"media align-items-center\"><img class=\"u-sm-avatar mr-2\" src=\"/token/images/yearn20moon_32.png \"/>Yearn20Moon.Finance</div></td><td><a class=\"text-primary\" href=\"/token/0x16be21c08eb27953273608629e4397556c561d26\">YMF20</a></td><td><a href=\"//yearn20moon.finance\" rel=\"nofollow noopener\" target=\"_blank\">yearn20moon.finance<i class=\"fa fa-external-link ml-1 small\"></i></a></td><td><a class=\"hash-tag text-truncate\" href=\"/address/0x16be21c08eb27953273608629e4397556c561d26\">0x16be21c08eb27953273608629e4397556c561d26</a></td><td class=\"sorting_3\">TBC </td><td>-</td><td>-</td><td><div data-original-title=\"\" data-toggle=\"tooltip\" style=\"width:max-content !important;\" title=\"\"></div></td></tr><tr class=\"even\" role=\"row\"><td><div class=\"media align-items-center\"><img class=\"u-sm-avatar mr-2\" src=\"/token/images/yxyfinance_32.png\"/>Yield By Yield</div></td><td><a class=\"text-primary\" href=\"/token/0x4636893ca179f1b3e7fd2ad3f2717b98ec061d83\">YXY</a></td><td><a href=\"//yxy.finance\" rel=\"nofollow noopener\" target=\"_blank\">yxy.finance<i class=\"fa fa-external-link ml-1 small\"></i></a></td><td><a class=\"hash-tag text-truncate\" href=\"/address/0x4636893ca179f1b3e7fd2ad3f2717b98ec061d83\">0x4636893ca179f1b3e7fd2ad3f2717b98ec061d83</a></td><td class=\"sorting_3\">TBC</td><td>-</td><td>-</td><td><div data-original-title=\"\" data-toggle=\"tooltip\" style=\"width:max-content !important;\" title=\"\">Offline 💤</div></td></tr><tr class=\"odd\" role=\"row\"><td><div class=\"media align-items-center\"><img class=\"u-sm-avatar mr-2\" src=\"/token/images/yearnfinancehit_32.png\"/>Yearn Finance HIT</div></td><td><a class=\"text-primary\" href=\"/token/0x28796aacd315cc28299cd802c46ec521cfb8d406\">YFHIT</a></td><td><a href=\"//yfhit.com\" rel=\"nofollow noopener\" target=\"_blank\">yfhit.com<i class=\"fa fa-external-link ml-1 small\"></i></a></td><td><a class=\"hash-tag text-truncate\" href=\"/address/0x28796aacd315cc28299cd802c46ec521cfb8d406\">0x28796aacd315cc28299cd802c46ec521cfb8d406</a></td><td class=\"sorting_3\">TBC</td><td>-</td><td>-</td><td><div data-original-title=\"\" data-toggle=\"tooltip\" style=\"width:max-content !important;\" title=\"\"></div></td></tr><tr class=\"even\" role=\"row\"><td><div class=\"media align-items-center\"><img class=\"u-sm-avatar mr-2\" src=\"/token/images/unipinetwork_32.png\"/>UniPi Network</div></td><td><a class=\"text-primary\" href=\"/token/0x2e1c7221086762d5f657cd5119e8ed5bf2af4ce6\">UPI</a></td><td><a href=\"//unipi.network\" rel=\"nofollow noopener\" target=\"_blank\">unipi.network<i class=\"fa fa-external-link ml-1 small\"></i></a></td><td><a class=\"hash-tag text-truncate\" href=\"/address/0x2e1c7221086762d5f657cd5119e8ed5bf2af4ce6\">0x2e1c7221086762d5f657cd5119e8ed5bf2af4ce6</a></td><td class=\"sorting_3\">TBC</td><td>-</td><td>-</td><td><div data-original-title=\"\" data-toggle=\"tooltip\" style=\"width:max-content !important;\" title=\"\"></div></td></tr><tr class=\"odd\" role=\"row\"><td><div class=\"media align-items-center\"><img class=\"u-sm-avatar mr-2\" src=\"/token/images/powerpool_32.png \"/>PowerPool Finance </div></td><td><a class=\"text-primary\" href=\"/token/0xb2b9335791346e94245dcd316a9c9ed486e6dd7f\">PIPT</a></td><td><a href=\"//powerpool.finance\" rel=\"nofollow noopener\" target=\"_blank\">powerpool.finance<i class=\"fa fa-external-link ml-1 small\"></i></a></td><td><a class=\"hash-tag text-truncate\" href=\"/address/0xb2b9335791346e94245dcd316a9c9ed486e6dd7f\">0xb2b9335791346e94245dcd316a9c9ed486e6dd7f</a></td><td class=\"sorting_3\">TBC</td><td>-</td><td>$3,583,108</td><td><div data-original-title=\"\" data-toggle=\"tooltip\" style=\"width:max-content !important;\" title=\"\"></div></td></tr></tbody>\n",
       " </table>]"
      ]
     },
     "execution_count": 8,
     "metadata": {},
     "output_type": "execute_result"
    }
   ],
   "source": [
    "table"
   ]
  },
  {
   "cell_type": "code",
   "execution_count": 9,
   "id": "52de493b",
   "metadata": {},
   "outputs": [],
   "source": [
    "table1 = soup.find_all(\"table\", attrs={\"id\": \"mytable\"})"
   ]
  },
  {
   "cell_type": "code",
   "execution_count": 10,
   "id": "45872a71",
   "metadata": {},
   "outputs": [],
   "source": [
    "gdp_table = soup.find(\"table\", attrs={\"id\": \"mytable\"})"
   ]
  },
  {
   "cell_type": "code",
   "execution_count": 11,
   "id": "e697714e",
   "metadata": {},
   "outputs": [
    {
     "data": {
      "text/plain": [
       "<table aria-describedby=\"mytable_info\" class=\"table table-hover w-100 dataTable no-footer\" id=\"mytable\" role=\"grid\" style=\"width: 1509px;\">\n",
       "<thead class=\"thead-light\">\n",
       "<tr role=\"row\"><th aria-label=\"Project\" class=\"sorting_disabled\" colspan=\"1\" rowspan=\"1\" style=\"width: 245px;\">Project</th><th aria-label=\"Symbol\" class=\"sorting_disabled\" colspan=\"1\" rowspan=\"1\" style=\"width: 70px;\">Symbol</th><th aria-label=\"Website\" class=\"sorting_disabled\" colspan=\"1\" rowspan=\"1\" style=\"width: 477px;\">Website</th><th aria-label=\"Token Address\" class=\"sorting_disabled\" colspan=\"1\" rowspan=\"1\" style=\"width: 171px;\">Token Address</th><th aria-controls=\"mytable\" aria-label=\"Date Start: activate to sort column descending\" class=\"sorting_desc\" colspan=\"1\" rowspan=\"1\" style=\"width: 67px;\" tabindex=\"0\">Date Start</th><th aria-controls=\"mytable\" aria-label=\"Price: activate to sort column descending\" class=\"sorting\" colspan=\"1\" rowspan=\"1\" style=\"width: 35px;\" tabindex=\"0\">Price</th><th aria-controls=\"mytable\" aria-label=\"Market Cap: activate to sort column descending\" class=\"sorting\" colspan=\"1\" rowspan=\"1\" style=\"width: 78px;\" tabindex=\"0\">Market Cap</th><th aria-label=\"DYOR\" class=\"sorting_disabled\" colspan=\"1\" rowspan=\"1\" style=\"width: 106px;\">DYOR</th></tr></thead>\n",
       "<tbody>\n",
       "<tr class=\"odd\" role=\"row\"><td><div class=\"media align-items-center\"><img class=\"u-sm-avatar mr-2\" src=\"/token/images/dragonbite_32.png\"/>DragonBite</div></td><td><a class=\"text-primary\" href=\"/token/0x4eed0fa8de12d5a86517f214c2f11586ba2ed88d\">BITE</a></td><td><a href=\"//www.dragonbite.asia\" rel=\"nofollow noopener\" target=\"_blank\">www.dragonbite.asia<i class=\"fa fa-external-link ml-1 small\"></i></a></td><td><a class=\"hash-tag text-truncate\" href=\"/address/0x4eed0fa8de12d5a86517f214c2f11586ba2ed88d\">0x4eed0fa8de12d5a86517f214c2f11586ba2ed88d</a></td><td class=\"sorting_3\">Jun 11, 2021</td><td>-</td><td>-</td><td><div data-original-title=\"\" data-toggle=\"tooltip\" style=\"width:max-content !important;\" title=\"\"></div></td></tr><tr class=\"even\" role=\"row\"><td><div class=\"media align-items-center\"><img class=\"u-sm-avatar mr-2\" src=\"/token/images/jixswap_32.png\"/>JiX Swap</div></td><td><a class=\"text-primary\" href=\"/token/0x99ab51fd0581116db20bd4cb3df1b53fbd3bae54\">JIX</a></td><td><a href=\"//jixswap.com\" rel=\"nofollow noopener\" target=\"_blank\">jixswap.com<i class=\"fa fa-external-link ml-1 small\"></i></a></td><td><a class=\"hash-tag text-truncate\" href=\"/address/0x99ab51fd0581116db20bd4cb3df1b53fbd3bae54\">0x99ab51fd0581116db20bd4cb3df1b53fbd3bae54</a></td><td class=\"sorting_3\">Apr 22, 2021</td><td>-</td><td>-</td><td><div data-original-title=\"\" data-toggle=\"tooltip\" style=\"width:max-content !important;\" title=\"\"></div></td></tr><tr class=\"odd\" role=\"row\"><td><div class=\"media align-items-center\"><img class=\"u-sm-avatar mr-2\" src=\"/token/images/werewolfcoin_32.png\"/>Werewolf Coin</div></td><td><a class=\"text-primary\" href=\"/token/0x38118BDB3B480F570837A4c2e88faC6E83BE6689\">WWC</a></td><td><a href=\"//werewolf.exchange\" rel=\"nofollow noopener\" target=\"_blank\">werewolf.exchange<i class=\"fa fa-external-link ml-1 small\"></i></a></td><td><a class=\"hash-tag text-truncate\" href=\"/address/0x38118BDB3B480F570837A4c2e88faC6E83BE6689\">0x38118BDB3B480F570837A4c2e88faC6E83BE6689</a></td><td class=\"sorting_3\">Apr 16, 2021</td><td>-</td><td>-</td><td><div data-original-title=\"\" data-toggle=\"tooltip\" style=\"width:max-content !important;\" title=\"\"></div></td></tr><tr class=\"even\" role=\"row\"><td><div class=\"media align-items-center\"><img class=\"u-sm-avatar mr-2\" src=\"/token/images/algoeuro_32.png\"/>Algoeuro</div></td><td><a class=\"text-primary\" href=\"/token/0x3c144fc1b34fc1be809fbb2b194f460014e60113\">AEUR</a></td><td><a href=\"//hybridverse.com\" rel=\"nofollow noopener\" target=\"_blank\">hybridverse.com<i class=\"fa fa-external-link ml-1 small\"></i></a></td><td><a class=\"hash-tag text-truncate\" href=\"/address/0x3c144fc1b34fc1be809fbb2b194f460014e60113\">0x3c144fc1b34fc1be809fbb2b194f460014e60113</a></td><td class=\"sorting_3\">Apr 15, 2021</td><td>-</td><td>-</td><td><div data-original-title=\"\" data-toggle=\"tooltip\" style=\"width:max-content !important;\" title=\"\"></div></td></tr><tr class=\"odd\" role=\"row\"><td><div class=\"media align-items-center\"><img class=\"u-sm-avatar mr-2\" src=\"/token/images/redcherryfinance_32.png\"/>Red Cherry</div></td><td><a class=\"text-primary\" href=\"/token/0xd183e7cc76d44b58c5a409053feef27227f4d47a\">RCH </a></td><td><a href=\"//redcherry.finance\" rel=\"nofollow noopener\" target=\"_blank\">redcherry.finance<i class=\"fa fa-external-link ml-1 small\"></i></a></td><td><a class=\"hash-tag text-truncate\" href=\"/address/0xd183e7cc76d44b58c5a409053feef27227f4d47a\">0xd183e7cc76d44b58c5a409053feef27227f4d47a</a></td><td class=\"sorting_3\">Apr 15, 2021</td><td>-</td><td>-</td><td><div data-original-title=\"\" data-toggle=\"tooltip\" style=\"width:max-content !important;\" title=\"\"></div></td></tr><tr class=\"even\" role=\"row\"><td><div class=\"media align-items-center\"><img class=\"u-sm-avatar mr-2\" src=\"/token/images/casinofinance_32.png\"/>Casino Finance</div></td><td><a class=\"text-primary\" href=\"/token/0x0c4bc8D2CCeb6931304Db39ee019403c3B8fb1EF\">CFI</a></td><td><a href=\"//casinofinance.tech\" rel=\"nofollow noopener\" target=\"_blank\">casinofinance.tech<i class=\"fa fa-external-link ml-1 small\"></i></a></td><td><a class=\"hash-tag text-truncate\" href=\"/address/0x0c4bc8D2CCeb6931304Db39ee019403c3B8fb1EF\">0x0c4bc8D2CCeb6931304Db39ee019403c3B8fb1EF</a></td><td class=\"sorting_3\">Apr 15, 2021</td><td>-</td><td>-</td><td><div data-original-title=\"\" data-toggle=\"tooltip\" style=\"width:max-content !important;\" title=\"\"></div></td></tr><tr class=\"odd\" role=\"row\"><td><div class=\"media align-items-center\"><img class=\"u-sm-avatar mr-2\" src=\"/token/images/wazirfarm_32.png\"/>Wazir Farm</div></td><td><a class=\"text-primary\" href=\"/token/0x730d532c39a095b102120f23f278b302665086a2\">WZR</a></td><td><a href=\"//wazir.farm\" rel=\"nofollow noopener\" target=\"_blank\">wazir.farm<i class=\"fa fa-external-link ml-1 small\"></i></a></td><td><a class=\"hash-tag text-truncate\" href=\"/address/0x730d532c39a095b102120f23f278b302665086a2\">0x730d532c39a095b102120f23f278b302665086a2</a></td><td class=\"sorting_3\">Apr 07, 2021</td><td>-</td><td>-</td><td><div data-original-title=\"\" data-toggle=\"tooltip\" style=\"width:max-content !important;\" title=\"\"></div></td></tr><tr class=\"even\" role=\"row\"><td><div class=\"media align-items-center\"><img class=\"u-sm-avatar mr-2\" src=\"/token/images/basketdaogov_32.png\"/>BasketDAO</div></td><td><a class=\"text-primary\" href=\"/token/0x44564d0bd94343f72e3c8a0d22308b7fa71db0bb\">BASK</a></td><td><a href=\"//basketdao.org\" rel=\"nofollow noopener\" target=\"_blank\">basketdao.org<i class=\"fa fa-external-link ml-1 small\"></i></a></td><td><a class=\"hash-tag text-truncate\" href=\"/address/0x44564d0bd94343f72e3c8a0d22308b7fa71db0bb\">0x44564d0bd94343f72e3c8a0d22308b7fa71db0bb</a></td><td class=\"sorting_3\">Apr 03, 2021</td><td>-</td><td>$2,213,111</td><td><div data-original-title=\"\" data-toggle=\"tooltip\" style=\"width:max-content !important;\" title=\"\"></div></td></tr><tr class=\"odd\" role=\"row\"><td><div class=\"media align-items-center\"><img class=\"u-sm-avatar mr-2\" src=\"/token/images/referralproject_32.png\"/>Referral Network</div></td><td><a class=\"text-primary\" href=\"/token/0x0f4b7bec854dbdd70fdf6cf5038f2717b3110672\">REFER</a></td><td><a href=\"//referralproject.network\" rel=\"nofollow noopener\" target=\"_blank\">referralproject.network<i class=\"fa fa-external-link ml-1 small\"></i></a></td><td><a class=\"hash-tag text-truncate\" href=\"/address/0x0f4b7bec854dbdd70fdf6cf5038f2717b3110672\">0x0f4b7bec854dbdd70fdf6cf5038f2717b3110672</a></td><td class=\"sorting_3\">Apr 01, 2021</td><td>-</td><td>-</td><td><div data-original-title=\"\" data-toggle=\"tooltip\" style=\"width:max-content !important;\" title=\"\"></div></td></tr><tr class=\"even\" role=\"row\"><td><div class=\"media align-items-center\"><img class=\"u-sm-avatar mr-2\" src=\"/token/images/xtraprotocol_32.png\"/>XTRA Protocol</div></td><td><a class=\"text-primary\" href=\"/token/0xfc0e2fe627c6329dc7d1fc57b43f30059665e803\">XTR</a></td><td><a href=\"//xtraprotocol.com\" rel=\"nofollow noopener\" target=\"_blank\">xtraprotocol.com<i class=\"fa fa-external-link ml-1 small\"></i></a></td><td><a class=\"hash-tag text-truncate\" href=\"/address/0xfc0e2fe627c6329dc7d1fc57b43f30059665e803\">0xfc0e2fe627c6329dc7d1fc57b43f30059665e803</a></td><td class=\"sorting_3\">Apr 01, 2021</td><td>-</td><td>-</td><td><div data-original-title=\"\" data-toggle=\"tooltip\" style=\"width:max-content !important;\" title=\"\"></div></td></tr><tr class=\"odd\" role=\"row\"><td><div class=\"media align-items-center\"><img class=\"u-sm-avatar mr-2\" src=\"/token/images/unifarmtoken_32.png\"/>UniFarm</div></td><td><a class=\"text-primary\" href=\"/token/0x40986a85b4cfcdb054a6cbfb1210194fee51af88\">UFARM</a></td><td><a href=\"//unifarm.co\" rel=\"nofollow noopener\" target=\"_blank\">unifarm.co<i class=\"fa fa-external-link ml-1 small\"></i></a></td><td><a class=\"hash-tag text-truncate\" href=\"/address/0x40986a85b4cfcdb054a6cbfb1210194fee51af88\">0x40986a85b4cfcdb054a6cbfb1210194fee51af88</a></td><td class=\"sorting_3\">Apr 01, 2021</td><td>-</td><td>-</td><td><div data-original-title=\"\" data-toggle=\"tooltip\" style=\"width:max-content !important;\" title=\"\"></div></td></tr><tr class=\"even\" role=\"row\"><td><div class=\"media align-items-center\"><img class=\"u-sm-avatar mr-2\" src=\"/token/images/spocktoken_32.png\"/>Spock</div></td><td><a class=\"text-primary\" href=\"/token/0x86e82313704851c6e2764bfae8276849ab28c113\">SPOCK</a></td><td><a href=\"//spock.borgswap.exchange\" rel=\"nofollow noopener\" target=\"_blank\">spock.borgswap.exchange<i class=\"fa fa-external-link ml-1 small\"></i></a></td><td><a class=\"hash-tag text-truncate\" href=\"/address/0x86e82313704851c6e2764bfae8276849ab28c113\">0x86e82313704851c6e2764bfae8276849ab28c113</a></td><td class=\"sorting_3\">Mar 24, 2021</td><td>-</td><td>-</td><td><div data-original-title=\"\" data-toggle=\"tooltip\" style=\"width:max-content !important;\" title=\"\"></div></td></tr><tr class=\"odd\" role=\"row\"><td><div class=\"media align-items-center\"><img class=\"u-sm-avatar mr-2\" src=\"/token/images/wasabi_32.png\"/>Wasabix Finance</div></td><td><a class=\"text-primary\" href=\"/token/0x896e145568624a498c5a909187363ae947631503\">WASABI</a></td><td><a href=\"//wasabix.finance\" rel=\"nofollow noopener\" target=\"_blank\">wasabix.finance<i class=\"fa fa-external-link ml-1 small\"></i></a></td><td><a class=\"hash-tag text-truncate\" href=\"/address/0x896e145568624a498c5a909187363ae947631503\">0x896e145568624a498c5a909187363ae947631503</a></td><td class=\"sorting_3\">Mar 23, 2021</td><td>-</td><td>-</td><td><div data-original-title=\"\" data-toggle=\"tooltip\" style=\"width:max-content !important;\" title=\"\"></div></td></tr><tr class=\"even\" role=\"row\"><td><div class=\"media align-items-center\"><img class=\"u-sm-avatar mr-2\" src=\"/token/images/lambotoken_32.png\"/>Lambo Defi Network</div></td><td><a class=\"text-primary\" href=\"/token/0x6da11821ac676d7ef8b31b2ace5d025429f5af44\">LAMBO</a></td><td><a href=\"//lambodefi.network\" rel=\"nofollow noopener\" target=\"_blank\">lambodefi.network<i class=\"fa fa-external-link ml-1 small\"></i></a></td><td><a class=\"hash-tag text-truncate\" href=\"/address/0x6da11821ac676d7ef8b31b2ace5d025429f5af44\">0x6da11821ac676d7ef8b31b2ace5d025429f5af44</a></td><td class=\"sorting_3\">Mar 20, 2021</td><td>-</td><td>-</td><td><div data-original-title=\"\" data-toggle=\"tooltip\" style=\"width:max-content !important;\" title=\"\"></div></td></tr><tr class=\"odd\" role=\"row\"><td><div class=\"media align-items-center\"><img class=\"u-sm-avatar mr-2\" src=\"/token/images/thecollective_32.png\"/>Collective</div></td><td><a class=\"text-primary\" href=\"/token/0x75739d5944534115d7c54ee8c73f186d793bae02\">CO2</a></td><td><a href=\"//thecollectivegroup.org\" rel=\"nofollow noopener\" target=\"_blank\">thecollectivegroup.org<i class=\"fa fa-external-link ml-1 small\"></i></a></td><td><a class=\"hash-tag text-truncate\" href=\"/address/0x75739d5944534115d7c54ee8c73f186d793bae02\">0x75739d5944534115d7c54ee8c73f186d793bae02</a></td><td class=\"sorting_3\">Mar 15, 2021</td><td>-</td><td>-</td><td><div data-original-title=\"\" data-toggle=\"tooltip\" style=\"width:max-content !important;\" title=\"\"></div></td></tr><tr class=\"even\" role=\"row\"><td><div class=\"media align-items-center\"><img class=\"u-sm-avatar mr-2\" src=\"/token/images/yearnyfinetwork_32.png\"/>Yearnyfi Network</div></td><td><a class=\"text-primary\" href=\"/token/0xdeaa665ab71785ccf576dc76e5fcb5a2283ea0c6\">YNI</a></td><td><a href=\"//yearnyfi.network\" rel=\"nofollow noopener\" target=\"_blank\">yearnyfi.network<i class=\"fa fa-external-link ml-1 small\"></i></a></td><td><a class=\"hash-tag text-truncate\" href=\"/address/0xdeaa665ab71785ccf576dc76e5fcb5a2283ea0c6\">0xdeaa665ab71785ccf576dc76e5fcb5a2283ea0c6</a></td><td class=\"sorting_3\">Feb 27, 2021</td><td>-</td><td>-</td><td><div data-original-title=\"\" data-toggle=\"tooltip\" style=\"width:max-content !important;\" title=\"\"></div></td></tr><tr class=\"odd\" role=\"row\"><td><div class=\"media align-items-center\"><img class=\"u-sm-avatar mr-2\" src=\"/token/images/ikomp_32.png\"/>iKOMP</div></td><td><a class=\"text-primary\" href=\"/token/0x6a625DDb2e2A2de0257C5129364dd80Bb4AfA3B9\">IKOMP </a></td><td><a href=\"//komp.app\" rel=\"nofollow noopener\" target=\"_blank\">komp.app<i class=\"fa fa-external-link ml-1 small\"></i></a></td><td><a class=\"hash-tag text-truncate\" href=\"/address/0x6a625DDb2e2A2de0257C5129364dd80Bb4AfA3B9\">0x6a625DDb2e2A2de0257C5129364dd80Bb4AfA3B9</a></td><td class=\"sorting_3\">Feb 26, 2021</td><td>-</td><td>-</td><td><div data-original-title=\"\" data-toggle=\"tooltip\" style=\"width:max-content !important;\" title=\"\"></div></td></tr><tr class=\"even\" role=\"row\"><td><div class=\"media align-items-center\"><img class=\"u-sm-avatar mr-2\" src=\"/token/images/infinityyield_32.png\"/>Infinity Yield</div></td><td><a class=\"text-primary\" href=\"/token/0xf19b0aa2c998b3ea6c2bac30607d5e8e04106ee7\">IFY</a></td><td><a href=\"//infinityyield.farm\" rel=\"nofollow noopener\" target=\"_blank\">infinityyield.farm<i class=\"fa fa-external-link ml-1 small\"></i></a></td><td><a class=\"hash-tag text-truncate\" href=\"/address/0xf19b0aa2c998b3ea6c2bac30607d5e8e04106ee7\">0xf19b0aa2c998b3ea6c2bac30607d5e8e04106ee7</a></td><td class=\"sorting_3\">Feb 23, 2021</td><td>-</td><td>-</td><td><div data-original-title=\"\" data-toggle=\"tooltip\" style=\"width:max-content !important;\" title=\"\"></div></td></tr><tr class=\"odd\" role=\"row\"><td><div class=\"media align-items-center\"><img class=\"u-sm-avatar mr-2\" src=\"/token/images/rapidswap_32.png\"/>Rapid Swap</div></td><td><a class=\"text-primary\" href=\"/token/0x3719c13d28a5adaba97b6c343b1f51e57b6b6e7d\">RAPID</a></td><td><a href=\"//rapidswap.app\" rel=\"nofollow noopener\" target=\"_blank\">rapidswap.app<i class=\"fa fa-external-link ml-1 small\"></i></a></td><td><a class=\"hash-tag text-truncate\" href=\"/address/0x3719c13d28a5adaba97b6c343b1f51e57b6b6e7d\">0x3719c13d28a5adaba97b6c343b1f51e57b6b6e7d</a></td><td class=\"sorting_3\">Feb 21, 2021</td><td>-</td><td>-</td><td><div data-original-title=\"\" data-toggle=\"tooltip\" style=\"width:max-content !important;\" title=\"\"></div></td></tr><tr class=\"even\" role=\"row\"><td><div class=\"media align-items-center\"><img class=\"u-sm-avatar mr-2\" src=\"/token/images/darkdefi_32.png\"/>Dark DeFi</div></td><td><a class=\"text-primary\" href=\"/token/0x2d98c5e92da2204bc2e9142373ed209a7ca9850a\">DARK</a></td><td><a href=\"//darkdefi.org\" rel=\"nofollow noopener\" target=\"_blank\">darkdefi.org<i class=\"fa fa-external-link ml-1 small\"></i></a></td><td><a class=\"hash-tag text-truncate\" href=\"/address/0x2d98c5e92da2204bc2e9142373ed209a7ca9850a\">0x2d98c5e92da2204bc2e9142373ed209a7ca9850a</a></td><td class=\"sorting_3\">Feb 20, 2021</td><td>-</td><td>-</td><td><div data-original-title=\"\" data-toggle=\"tooltip\" style=\"width:max-content !important;\" title=\"\"></div></td></tr><tr class=\"odd\" role=\"row\"><td><div class=\"media align-items-center\"><img class=\"u-sm-avatar mr-2\" src=\"/token/images/furtoken_32.png\"/>Fur Finance</div></td><td><a class=\"text-primary\" href=\"/token/0xbacdbe7cd52bdf11065210863139e9dad875a896\">FUR</a></td><td><a href=\"//fur.finance\" rel=\"nofollow noopener\" target=\"_blank\">fur.finance<i class=\"fa fa-external-link ml-1 small\"></i></a></td><td><a class=\"hash-tag text-truncate\" href=\"/address/0xbacdbe7cd52bdf11065210863139e9dad875a896\">0xbacdbe7cd52bdf11065210863139e9dad875a896</a></td><td class=\"sorting_3\">Feb 19, 2021</td><td>-</td><td>-</td><td><div data-original-title=\"\" data-toggle=\"tooltip\" style=\"width:max-content !important;\" title=\"\"></div></td></tr><tr class=\"even\" role=\"row\"><td><div class=\"media align-items-center\"><img class=\"u-sm-avatar mr-2\" src=\"/token/images/potterswaptoken_32.png\"/>PotterSwap</div></td><td><a class=\"text-primary\" href=\"/token/0x9dcd36e6f3dd1186d902de9241e10c2c2171a2ef\">PSW</a></td><td><a href=\"//potterswap.org\" rel=\"nofollow noopener\" target=\"_blank\">potterswap.org<i class=\"fa fa-external-link ml-1 small\"></i></a></td><td><a class=\"hash-tag text-truncate\" href=\"/address/0x9dcd36e6f3dd1186d902de9241e10c2c2171a2ef\">0x9dcd36e6f3dd1186d902de9241e10c2c2171a2ef</a></td><td class=\"sorting_3\">Feb 15, 2021</td><td>-</td><td>-</td><td><div data-original-title=\"\" data-toggle=\"tooltip\" style=\"width:max-content !important;\" title=\"\"></div></td></tr><tr class=\"odd\" role=\"row\"><td><div class=\"media align-items-center\"><img class=\"u-sm-avatar mr-2\" src=\"/token/images/yfbitcoin_32.png\"/>YFBitcoin (YFBTC)</div></td><td><a class=\"text-primary\" href=\"/token/0xff034D12353867fC4228f4Ae3E689CD6dCAad120\">YFBTC</a></td><td><a href=\"//yfbtc.net\" rel=\"nofollow noopener\" target=\"_blank\">yfbtc.net<i class=\"fa fa-external-link ml-1 small\"></i></a></td><td><a class=\"hash-tag text-truncate\" href=\"/address/0xff034D12353867fC4228f4Ae3E689CD6dCAad120\">0xff034D12353867fC4228f4Ae3E689CD6dCAad120</a></td><td class=\"sorting_3\">Feb 12, 2021</td><td>-</td><td>-</td><td><div data-original-title=\"\" data-toggle=\"tooltip\" style=\"width:max-content !important;\" title=\"\"></div></td></tr><tr class=\"even\" role=\"row\"><td><div class=\"media align-items-center\"><img class=\"u-sm-avatar mr-2\" src=\"/token/images/shielddao_32.png\"/>Shield</div></td><td><a class=\"text-primary\" href=\"/token/0x45eefd478f1cb04c1a183c29c7bca7c50a17bb23\">SHD</a></td><td><a href=\"//shielddao.app\" rel=\"nofollow noopener\" target=\"_blank\">shielddao.app<i class=\"fa fa-external-link ml-1 small\"></i></a></td><td><a class=\"hash-tag text-truncate\" href=\"/address/0x45eefd478f1cb04c1a183c29c7bca7c50a17bb23\">0x45eefd478f1cb04c1a183c29c7bca7c50a17bb23</a></td><td class=\"sorting_3\">Feb 10, 2021</td><td>-</td><td>-</td><td><div data-original-title=\"\" data-toggle=\"tooltip\" style=\"width:max-content !important;\" title=\"\"></div></td></tr><tr class=\"odd\" role=\"row\"><td><div class=\"media align-items-center\"><img class=\"u-sm-avatar mr-2\" src=\"/token/images/kohima_32.png\"/>KOHIMA FINANCE</div></td><td><a class=\"text-primary\" href=\"/token/0x2e7483e8c9905f40c638987748e7e152464c6dc2\">KHM</a></td><td><a href=\"//kohima.finance\" rel=\"nofollow noopener\" target=\"_blank\">kohima.finance<i class=\"fa fa-external-link ml-1 small\"></i></a></td><td><a class=\"hash-tag text-truncate\" href=\"/address/0x2e7483e8c9905f40c638987748e7e152464c6dc2\">0x2e7483e8c9905f40c638987748e7e152464c6dc2</a></td><td class=\"sorting_3\">Feb 10, 2021</td><td>-</td><td>-</td><td><div data-original-title=\"\" data-toggle=\"tooltip\" style=\"width:max-content !important;\" title=\"\"></div></td></tr></tbody>\n",
       "</table>"
      ]
     },
     "execution_count": 11,
     "metadata": {},
     "output_type": "execute_result"
    }
   ],
   "source": [
    "gdp_table"
   ]
  },
  {
   "cell_type": "code",
   "execution_count": 12,
   "id": "b0a4d8de",
   "metadata": {},
   "outputs": [],
   "source": [
    "gdp_table_data = gdp_table.tbody.find_all(\"tr\")"
   ]
  },
  {
   "cell_type": "code",
   "execution_count": 14,
   "id": "d9a687fb",
   "metadata": {},
   "outputs": [],
   "source": [
    "symbols = gdp_table.tbody.find_all('a', attrs ={\"class\": \"text-primary\"})"
   ]
  },
  {
   "cell_type": "code",
   "execution_count": 15,
   "id": "dc8b14eb",
   "metadata": {},
   "outputs": [
    {
     "name": "stdout",
     "output_type": "stream",
     "text": [
      "BITE\n",
      "JIX\n",
      "WWC\n",
      "AEUR\n",
      "RCH \n",
      "CFI\n",
      "WZR\n",
      "BASK\n",
      "REFER\n",
      "XTR\n",
      "UFARM\n",
      "SPOCK\n",
      "WASABI\n",
      "LAMBO\n",
      "CO2\n",
      "YNI\n",
      "IKOMP \n",
      "IFY\n",
      "RAPID\n",
      "DARK\n",
      "FUR\n",
      "PSW\n",
      "YFBTC\n",
      "SHD\n",
      "KHM\n"
     ]
    }
   ],
   "source": [
    "for symbol in symbols: \n",
    "    print(symbol.text)\n",
    "    symbols_list.append(symbol.text) "
   ]
  },
  {
   "cell_type": "code",
   "execution_count": 16,
   "id": "f72a71c9",
   "metadata": {},
   "outputs": [],
   "source": [
    "names = gdp_table.tbody.find_all('div', attrs ={\"class\": \"media align-items-center\"})"
   ]
  },
  {
   "cell_type": "code",
   "execution_count": 17,
   "id": "38f177a5",
   "metadata": {},
   "outputs": [
    {
     "name": "stdout",
     "output_type": "stream",
     "text": [
      "DragonBite\n",
      "JiX Swap\n",
      "Werewolf Coin\n",
      "Algoeuro\n",
      "Red Cherry\n",
      "Casino Finance\n",
      "Wazir Farm\n",
      "BasketDAO\n",
      "Referral Network\n",
      "XTRA Protocol\n",
      "UniFarm\n",
      "Spock\n",
      "Wasabix Finance\n",
      "Lambo Defi Network\n",
      "Collective\n",
      "Yearnyfi Network\n",
      "iKOMP\n",
      "Infinity Yield\n",
      "Rapid Swap\n",
      "Dark DeFi\n",
      "Fur Finance\n",
      "PotterSwap\n",
      "YFBitcoin (YFBTC)\n",
      "Shield\n",
      "KOHIMA FINANCE\n"
     ]
    }
   ],
   "source": [
    "for name in names:\n",
    "    print(name.text)\n",
    "    names_list.append(name.text)"
   ]
  },
  {
   "cell_type": "code",
   "execution_count": 18,
   "id": "9f906883",
   "metadata": {},
   "outputs": [
    {
     "data": {
      "text/plain": [
       "['DragonBite',\n",
       " 'JiX Swap',\n",
       " 'Werewolf Coin',\n",
       " 'Algoeuro',\n",
       " 'Red Cherry',\n",
       " 'Casino Finance',\n",
       " 'Wazir Farm',\n",
       " 'BasketDAO',\n",
       " 'Referral Network',\n",
       " 'XTRA Protocol',\n",
       " 'UniFarm',\n",
       " 'Spock',\n",
       " 'Wasabix Finance',\n",
       " 'Lambo Defi Network',\n",
       " 'Collective',\n",
       " 'Yearnyfi Network',\n",
       " 'iKOMP',\n",
       " 'Infinity Yield',\n",
       " 'Rapid Swap',\n",
       " 'Dark DeFi',\n",
       " 'Fur Finance',\n",
       " 'PotterSwap',\n",
       " 'YFBitcoin (YFBTC)',\n",
       " 'Shield',\n",
       " 'KOHIMA FINANCE']"
      ]
     },
     "execution_count": 18,
     "metadata": {},
     "output_type": "execute_result"
    }
   ],
   "source": [
    "names_list"
   ]
  },
  {
   "cell_type": "code",
   "execution_count": 19,
   "id": "04bd87a0",
   "metadata": {},
   "outputs": [],
   "source": [
    "token_ip = gdp_table.tbody.find_all('a', attrs ={\"class\": \"hash-tag text-truncate\"})"
   ]
  },
  {
   "cell_type": "code",
   "execution_count": 20,
   "id": "ff9a8dd3",
   "metadata": {},
   "outputs": [
    {
     "name": "stdout",
     "output_type": "stream",
     "text": [
      "0x4eed0fa8de12d5a86517f214c2f11586ba2ed88d\n",
      "0x99ab51fd0581116db20bd4cb3df1b53fbd3bae54\n",
      "0x38118BDB3B480F570837A4c2e88faC6E83BE6689\n",
      "0x3c144fc1b34fc1be809fbb2b194f460014e60113\n",
      "0xd183e7cc76d44b58c5a409053feef27227f4d47a\n",
      "0x0c4bc8D2CCeb6931304Db39ee019403c3B8fb1EF\n",
      "0x730d532c39a095b102120f23f278b302665086a2\n",
      "0x44564d0bd94343f72e3c8a0d22308b7fa71db0bb\n",
      "0x0f4b7bec854dbdd70fdf6cf5038f2717b3110672\n",
      "0xfc0e2fe627c6329dc7d1fc57b43f30059665e803\n",
      "0x40986a85b4cfcdb054a6cbfb1210194fee51af88\n",
      "0x86e82313704851c6e2764bfae8276849ab28c113\n",
      "0x896e145568624a498c5a909187363ae947631503\n",
      "0x6da11821ac676d7ef8b31b2ace5d025429f5af44\n",
      "0x75739d5944534115d7c54ee8c73f186d793bae02\n",
      "0xdeaa665ab71785ccf576dc76e5fcb5a2283ea0c6\n",
      "0x6a625DDb2e2A2de0257C5129364dd80Bb4AfA3B9\n",
      "0xf19b0aa2c998b3ea6c2bac30607d5e8e04106ee7\n",
      "0x3719c13d28a5adaba97b6c343b1f51e57b6b6e7d\n",
      "0x2d98c5e92da2204bc2e9142373ed209a7ca9850a\n",
      "0xbacdbe7cd52bdf11065210863139e9dad875a896\n",
      "0x9dcd36e6f3dd1186d902de9241e10c2c2171a2ef\n",
      "0xff034D12353867fC4228f4Ae3E689CD6dCAad120\n",
      "0x45eefd478f1cb04c1a183c29c7bca7c50a17bb23\n",
      "0x2e7483e8c9905f40c638987748e7e152464c6dc2\n"
     ]
    }
   ],
   "source": [
    "for ip in token_ip:\n",
    "    print(ip.text)\n",
    "    token_ip_list.append(ip.text)"
   ]
  },
  {
   "cell_type": "code",
   "execution_count": 21,
   "id": "b065f7c0",
   "metadata": {},
   "outputs": [],
   "source": [
    "for i in range(len(token_ip_list)):\n",
    "    token_ip_list[i] = token_ip_list[i][2:]"
   ]
  },
  {
   "cell_type": "code",
   "execution_count": 22,
   "id": "1801a273",
   "metadata": {},
   "outputs": [
    {
     "data": {
      "text/plain": [
       "['4eed0fa8de12d5a86517f214c2f11586ba2ed88d',\n",
       " '99ab51fd0581116db20bd4cb3df1b53fbd3bae54',\n",
       " '38118BDB3B480F570837A4c2e88faC6E83BE6689',\n",
       " '3c144fc1b34fc1be809fbb2b194f460014e60113',\n",
       " 'd183e7cc76d44b58c5a409053feef27227f4d47a',\n",
       " '0c4bc8D2CCeb6931304Db39ee019403c3B8fb1EF',\n",
       " '730d532c39a095b102120f23f278b302665086a2',\n",
       " '44564d0bd94343f72e3c8a0d22308b7fa71db0bb',\n",
       " '0f4b7bec854dbdd70fdf6cf5038f2717b3110672',\n",
       " 'fc0e2fe627c6329dc7d1fc57b43f30059665e803',\n",
       " '40986a85b4cfcdb054a6cbfb1210194fee51af88',\n",
       " '86e82313704851c6e2764bfae8276849ab28c113',\n",
       " '896e145568624a498c5a909187363ae947631503',\n",
       " '6da11821ac676d7ef8b31b2ace5d025429f5af44',\n",
       " '75739d5944534115d7c54ee8c73f186d793bae02',\n",
       " 'deaa665ab71785ccf576dc76e5fcb5a2283ea0c6',\n",
       " '6a625DDb2e2A2de0257C5129364dd80Bb4AfA3B9',\n",
       " 'f19b0aa2c998b3ea6c2bac30607d5e8e04106ee7',\n",
       " '3719c13d28a5adaba97b6c343b1f51e57b6b6e7d',\n",
       " '2d98c5e92da2204bc2e9142373ed209a7ca9850a',\n",
       " 'bacdbe7cd52bdf11065210863139e9dad875a896',\n",
       " '9dcd36e6f3dd1186d902de9241e10c2c2171a2ef',\n",
       " 'ff034D12353867fC4228f4Ae3E689CD6dCAad120',\n",
       " '45eefd478f1cb04c1a183c29c7bca7c50a17bb23',\n",
       " '2e7483e8c9905f40c638987748e7e152464c6dc2']"
      ]
     },
     "execution_count": 22,
     "metadata": {},
     "output_type": "execute_result"
    }
   ],
   "source": [
    "token_ip_list"
   ]
  },
  {
   "cell_type": "code",
   "execution_count": 23,
   "id": "a9e8d25a",
   "metadata": {},
   "outputs": [],
   "source": [
    "dates = gdp_table.tbody.find_all('td', attrs ={\"class\": \"sorting_3\"})"
   ]
  },
  {
   "cell_type": "code",
   "execution_count": 24,
   "id": "5b2e9c50",
   "metadata": {},
   "outputs": [
    {
     "name": "stdout",
     "output_type": "stream",
     "text": [
      "Jun 11, 2021\n",
      "Apr 22, 2021\n",
      "Apr 16, 2021\n",
      "Apr 15, 2021\n",
      "Apr 15, 2021\n",
      "Apr 15, 2021\n",
      "Apr 07, 2021\n",
      "Apr 03, 2021\n",
      "Apr 01, 2021\n",
      "Apr 01, 2021\n",
      "Apr 01, 2021\n",
      "Mar 24, 2021\n",
      "Mar 23, 2021\n",
      "Mar 20, 2021\n",
      "Mar 15, 2021\n",
      "Feb 27, 2021\n",
      "Feb 26, 2021\n",
      "Feb 23, 2021\n",
      "Feb 21, 2021\n",
      "Feb 20, 2021\n",
      "Feb 19, 2021\n",
      "Feb 15, 2021\n",
      "Feb 12, 2021\n",
      "Feb 10, 2021\n",
      "Feb 10, 2021\n"
     ]
    }
   ],
   "source": [
    "for date in dates:\n",
    "    print(date.text)\n",
    "    dates_list.append(date.text)"
   ]
  },
  {
   "cell_type": "code",
   "execution_count": 25,
   "id": "e6a4d3ce",
   "metadata": {},
   "outputs": [],
   "source": [
    "links = gdp_table.tbody.find_all('a')"
   ]
  },
  {
   "cell_type": "code",
   "execution_count": 26,
   "id": "3194ba98",
   "metadata": {},
   "outputs": [],
   "source": [
    "for link in links:\n",
    "    links_list.append(link.get('href'))"
   ]
  },
  {
   "cell_type": "code",
   "execution_count": 27,
   "id": "fd004446",
   "metadata": {},
   "outputs": [],
   "source": [
    "r = re.compile(\"^//\")"
   ]
  },
  {
   "cell_type": "code",
   "execution_count": 28,
   "id": "80775c96",
   "metadata": {},
   "outputs": [],
   "source": [
    "clear_links_list = list(filter(r.match, links_list))"
   ]
  },
  {
   "cell_type": "code",
   "execution_count": 29,
   "id": "b67aff30",
   "metadata": {},
   "outputs": [],
   "source": [
    "for i in range(len(clear_links_list)):\n",
    "    clear_links_list[i] = clear_links_list[i][2:]"
   ]
  },
  {
   "cell_type": "code",
   "execution_count": 30,
   "id": "be7c50d1",
   "metadata": {},
   "outputs": [
    {
     "data": {
      "text/plain": [
       "['www.dragonbite.asia',\n",
       " 'jixswap.com',\n",
       " 'werewolf.exchange',\n",
       " 'hybridverse.com',\n",
       " 'redcherry.finance',\n",
       " 'casinofinance.tech',\n",
       " 'wazir.farm',\n",
       " 'basketdao.org',\n",
       " 'referralproject.network',\n",
       " 'xtraprotocol.com',\n",
       " 'unifarm.co',\n",
       " 'spock.borgswap.exchange',\n",
       " 'wasabix.finance',\n",
       " 'lambodefi.network',\n",
       " 'thecollectivegroup.org',\n",
       " 'yearnyfi.network',\n",
       " 'komp.app',\n",
       " 'infinityyield.farm',\n",
       " 'rapidswap.app',\n",
       " 'darkdefi.org',\n",
       " 'fur.finance',\n",
       " 'potterswap.org',\n",
       " 'yfbtc.net',\n",
       " 'shielddao.app',\n",
       " 'kohima.finance']"
      ]
     },
     "execution_count": 30,
     "metadata": {},
     "output_type": "execute_result"
    }
   ],
   "source": [
    "clear_links_list"
   ]
  },
  {
   "cell_type": "code",
   "execution_count": 31,
   "id": "afa34dd5",
   "metadata": {},
   "outputs": [],
   "source": [
    "all_data = gdp_table.tbody.find_all('tr')"
   ]
  },
  {
   "cell_type": "code",
   "execution_count": 32,
   "id": "5c76df3e",
   "metadata": {},
   "outputs": [],
   "source": [
    "a_list = []"
   ]
  },
  {
   "cell_type": "code",
   "execution_count": 33,
   "id": "0d8d723c",
   "metadata": {},
   "outputs": [
    {
     "name": "stdout",
     "output_type": "stream",
     "text": [
      "DragonBiteBITEwww.dragonbite.asia0x4eed0fa8de12d5a86517f214c2f11586ba2ed88dJun 11, 2021--\n",
      "JiX SwapJIXjixswap.com0x99ab51fd0581116db20bd4cb3df1b53fbd3bae54Apr 22, 2021--\n",
      "Werewolf CoinWWCwerewolf.exchange0x38118BDB3B480F570837A4c2e88faC6E83BE6689Apr 16, 2021--\n",
      "AlgoeuroAEURhybridverse.com0x3c144fc1b34fc1be809fbb2b194f460014e60113Apr 15, 2021--\n",
      "Red CherryRCH redcherry.finance0xd183e7cc76d44b58c5a409053feef27227f4d47aApr 15, 2021--\n",
      "Casino FinanceCFIcasinofinance.tech0x0c4bc8D2CCeb6931304Db39ee019403c3B8fb1EFApr 15, 2021--\n",
      "Wazir FarmWZRwazir.farm0x730d532c39a095b102120f23f278b302665086a2Apr 07, 2021--\n",
      "BasketDAOBASKbasketdao.org0x44564d0bd94343f72e3c8a0d22308b7fa71db0bbApr 03, 2021-$2,213,111\n",
      "Referral NetworkREFERreferralproject.network0x0f4b7bec854dbdd70fdf6cf5038f2717b3110672Apr 01, 2021--\n",
      "XTRA ProtocolXTRxtraprotocol.com0xfc0e2fe627c6329dc7d1fc57b43f30059665e803Apr 01, 2021--\n",
      "UniFarmUFARMunifarm.co0x40986a85b4cfcdb054a6cbfb1210194fee51af88Apr 01, 2021--\n",
      "SpockSPOCKspock.borgswap.exchange0x86e82313704851c6e2764bfae8276849ab28c113Mar 24, 2021--\n",
      "Wasabix FinanceWASABIwasabix.finance0x896e145568624a498c5a909187363ae947631503Mar 23, 2021--\n",
      "Lambo Defi NetworkLAMBOlambodefi.network0x6da11821ac676d7ef8b31b2ace5d025429f5af44Mar 20, 2021--\n",
      "CollectiveCO2thecollectivegroup.org0x75739d5944534115d7c54ee8c73f186d793bae02Mar 15, 2021--\n",
      "Yearnyfi NetworkYNIyearnyfi.network0xdeaa665ab71785ccf576dc76e5fcb5a2283ea0c6Feb 27, 2021--\n",
      "iKOMPIKOMP komp.app0x6a625DDb2e2A2de0257C5129364dd80Bb4AfA3B9Feb 26, 2021--\n",
      "Infinity YieldIFYinfinityyield.farm0xf19b0aa2c998b3ea6c2bac30607d5e8e04106ee7Feb 23, 2021--\n",
      "Rapid SwapRAPIDrapidswap.app0x3719c13d28a5adaba97b6c343b1f51e57b6b6e7dFeb 21, 2021--\n",
      "Dark DeFiDARKdarkdefi.org0x2d98c5e92da2204bc2e9142373ed209a7ca9850aFeb 20, 2021--\n",
      "Fur FinanceFURfur.finance0xbacdbe7cd52bdf11065210863139e9dad875a896Feb 19, 2021--\n",
      "PotterSwapPSWpotterswap.org0x9dcd36e6f3dd1186d902de9241e10c2c2171a2efFeb 15, 2021--\n",
      "YFBitcoin (YFBTC)YFBTCyfbtc.net0xff034D12353867fC4228f4Ae3E689CD6dCAad120Feb 12, 2021--\n",
      "ShieldSHDshielddao.app0x45eefd478f1cb04c1a183c29c7bca7c50a17bb23Feb 10, 2021--\n",
      "KOHIMA FINANCEKHMkohima.finance0x2e7483e8c9905f40c638987748e7e152464c6dc2Feb 10, 2021--\n"
     ]
    }
   ],
   "source": [
    "for data in all_data:\n",
    "    print(data.text)\n",
    "    a_list.append(data.text)"
   ]
  },
  {
   "cell_type": "code",
   "execution_count": 34,
   "id": "148f085d",
   "metadata": {},
   "outputs": [],
   "source": [
    "def market_cap(list):\n",
    "    r = re.compile(\"[^$]*$\")\n",
    "    for i in range(len(a_list)):\n",
    "        if a_list[i] == r.findall(a_list[i])[0]:\n",
    "            market_cap_list.append('no data')\n",
    "        else:\n",
    "            market_cap_list.append(r.findall(a_list[i]))"
   ]
  },
  {
   "cell_type": "code",
   "execution_count": 35,
   "id": "b590b1b2",
   "metadata": {},
   "outputs": [],
   "source": [
    "market_cap(a_list)"
   ]
  },
  {
   "cell_type": "code",
   "execution_count": 36,
   "id": "ba105ab5",
   "metadata": {},
   "outputs": [
    {
     "data": {
      "text/plain": [
       "['no data',\n",
       " 'no data',\n",
       " 'no data',\n",
       " 'no data',\n",
       " 'no data',\n",
       " 'no data',\n",
       " 'no data',\n",
       " ['2,213,111', ''],\n",
       " 'no data',\n",
       " 'no data',\n",
       " 'no data',\n",
       " 'no data',\n",
       " 'no data',\n",
       " 'no data',\n",
       " 'no data',\n",
       " 'no data',\n",
       " 'no data',\n",
       " 'no data',\n",
       " 'no data',\n",
       " 'no data',\n",
       " 'no data',\n",
       " 'no data',\n",
       " 'no data',\n",
       " 'no data',\n",
       " 'no data']"
      ]
     },
     "execution_count": 36,
     "metadata": {},
     "output_type": "execute_result"
    }
   ],
   "source": [
    "market_cap_list"
   ]
  },
  {
   "cell_type": "code",
   "execution_count": 37,
   "id": "cbca2072",
   "metadata": {},
   "outputs": [],
   "source": [
    "df = pd.DataFrame(list(zip(names_list, symbols_list, clear_links_list, token_ip_list, dates_list, market_cap_list)),\n",
    "                              columns =['Project', 'Symbol', 'Website', 'Token_adress', 'Data Start', 'Market_Cap'])"
   ]
  },
  {
   "cell_type": "code",
   "execution_count": 38,
   "id": "2bb16f12",
   "metadata": {},
   "outputs": [
    {
     "data": {
      "text/html": [
       "<div>\n",
       "<style scoped>\n",
       "    .dataframe tbody tr th:only-of-type {\n",
       "        vertical-align: middle;\n",
       "    }\n",
       "\n",
       "    .dataframe tbody tr th {\n",
       "        vertical-align: top;\n",
       "    }\n",
       "\n",
       "    .dataframe thead th {\n",
       "        text-align: right;\n",
       "    }\n",
       "</style>\n",
       "<table border=\"1\" class=\"dataframe\">\n",
       "  <thead>\n",
       "    <tr style=\"text-align: right;\">\n",
       "      <th></th>\n",
       "      <th>Project</th>\n",
       "      <th>Symbol</th>\n",
       "      <th>Website</th>\n",
       "      <th>Token_adress</th>\n",
       "      <th>Data Start</th>\n",
       "      <th>Market_Cap</th>\n",
       "    </tr>\n",
       "  </thead>\n",
       "  <tbody>\n",
       "    <tr>\n",
       "      <th>0</th>\n",
       "      <td>DragonBite</td>\n",
       "      <td>BITE</td>\n",
       "      <td>www.dragonbite.asia</td>\n",
       "      <td>4eed0fa8de12d5a86517f214c2f11586ba2ed88d</td>\n",
       "      <td>Jun 11, 2021</td>\n",
       "      <td>no data</td>\n",
       "    </tr>\n",
       "    <tr>\n",
       "      <th>1</th>\n",
       "      <td>JiX Swap</td>\n",
       "      <td>JIX</td>\n",
       "      <td>jixswap.com</td>\n",
       "      <td>99ab51fd0581116db20bd4cb3df1b53fbd3bae54</td>\n",
       "      <td>Apr 22, 2021</td>\n",
       "      <td>no data</td>\n",
       "    </tr>\n",
       "    <tr>\n",
       "      <th>2</th>\n",
       "      <td>Werewolf Coin</td>\n",
       "      <td>WWC</td>\n",
       "      <td>werewolf.exchange</td>\n",
       "      <td>38118BDB3B480F570837A4c2e88faC6E83BE6689</td>\n",
       "      <td>Apr 16, 2021</td>\n",
       "      <td>no data</td>\n",
       "    </tr>\n",
       "    <tr>\n",
       "      <th>3</th>\n",
       "      <td>Algoeuro</td>\n",
       "      <td>AEUR</td>\n",
       "      <td>hybridverse.com</td>\n",
       "      <td>3c144fc1b34fc1be809fbb2b194f460014e60113</td>\n",
       "      <td>Apr 15, 2021</td>\n",
       "      <td>no data</td>\n",
       "    </tr>\n",
       "    <tr>\n",
       "      <th>4</th>\n",
       "      <td>Red Cherry</td>\n",
       "      <td>RCH</td>\n",
       "      <td>redcherry.finance</td>\n",
       "      <td>d183e7cc76d44b58c5a409053feef27227f4d47a</td>\n",
       "      <td>Apr 15, 2021</td>\n",
       "      <td>no data</td>\n",
       "    </tr>\n",
       "    <tr>\n",
       "      <th>5</th>\n",
       "      <td>Casino Finance</td>\n",
       "      <td>CFI</td>\n",
       "      <td>casinofinance.tech</td>\n",
       "      <td>0c4bc8D2CCeb6931304Db39ee019403c3B8fb1EF</td>\n",
       "      <td>Apr 15, 2021</td>\n",
       "      <td>no data</td>\n",
       "    </tr>\n",
       "    <tr>\n",
       "      <th>6</th>\n",
       "      <td>Wazir Farm</td>\n",
       "      <td>WZR</td>\n",
       "      <td>wazir.farm</td>\n",
       "      <td>730d532c39a095b102120f23f278b302665086a2</td>\n",
       "      <td>Apr 07, 2021</td>\n",
       "      <td>no data</td>\n",
       "    </tr>\n",
       "    <tr>\n",
       "      <th>7</th>\n",
       "      <td>BasketDAO</td>\n",
       "      <td>BASK</td>\n",
       "      <td>basketdao.org</td>\n",
       "      <td>44564d0bd94343f72e3c8a0d22308b7fa71db0bb</td>\n",
       "      <td>Apr 03, 2021</td>\n",
       "      <td>[2,213,111, ]</td>\n",
       "    </tr>\n",
       "    <tr>\n",
       "      <th>8</th>\n",
       "      <td>Referral Network</td>\n",
       "      <td>REFER</td>\n",
       "      <td>referralproject.network</td>\n",
       "      <td>0f4b7bec854dbdd70fdf6cf5038f2717b3110672</td>\n",
       "      <td>Apr 01, 2021</td>\n",
       "      <td>no data</td>\n",
       "    </tr>\n",
       "    <tr>\n",
       "      <th>9</th>\n",
       "      <td>XTRA Protocol</td>\n",
       "      <td>XTR</td>\n",
       "      <td>xtraprotocol.com</td>\n",
       "      <td>fc0e2fe627c6329dc7d1fc57b43f30059665e803</td>\n",
       "      <td>Apr 01, 2021</td>\n",
       "      <td>no data</td>\n",
       "    </tr>\n",
       "    <tr>\n",
       "      <th>10</th>\n",
       "      <td>UniFarm</td>\n",
       "      <td>UFARM</td>\n",
       "      <td>unifarm.co</td>\n",
       "      <td>40986a85b4cfcdb054a6cbfb1210194fee51af88</td>\n",
       "      <td>Apr 01, 2021</td>\n",
       "      <td>no data</td>\n",
       "    </tr>\n",
       "    <tr>\n",
       "      <th>11</th>\n",
       "      <td>Spock</td>\n",
       "      <td>SPOCK</td>\n",
       "      <td>spock.borgswap.exchange</td>\n",
       "      <td>86e82313704851c6e2764bfae8276849ab28c113</td>\n",
       "      <td>Mar 24, 2021</td>\n",
       "      <td>no data</td>\n",
       "    </tr>\n",
       "    <tr>\n",
       "      <th>12</th>\n",
       "      <td>Wasabix Finance</td>\n",
       "      <td>WASABI</td>\n",
       "      <td>wasabix.finance</td>\n",
       "      <td>896e145568624a498c5a909187363ae947631503</td>\n",
       "      <td>Mar 23, 2021</td>\n",
       "      <td>no data</td>\n",
       "    </tr>\n",
       "    <tr>\n",
       "      <th>13</th>\n",
       "      <td>Lambo Defi Network</td>\n",
       "      <td>LAMBO</td>\n",
       "      <td>lambodefi.network</td>\n",
       "      <td>6da11821ac676d7ef8b31b2ace5d025429f5af44</td>\n",
       "      <td>Mar 20, 2021</td>\n",
       "      <td>no data</td>\n",
       "    </tr>\n",
       "    <tr>\n",
       "      <th>14</th>\n",
       "      <td>Collective</td>\n",
       "      <td>CO2</td>\n",
       "      <td>thecollectivegroup.org</td>\n",
       "      <td>75739d5944534115d7c54ee8c73f186d793bae02</td>\n",
       "      <td>Mar 15, 2021</td>\n",
       "      <td>no data</td>\n",
       "    </tr>\n",
       "    <tr>\n",
       "      <th>15</th>\n",
       "      <td>Yearnyfi Network</td>\n",
       "      <td>YNI</td>\n",
       "      <td>yearnyfi.network</td>\n",
       "      <td>deaa665ab71785ccf576dc76e5fcb5a2283ea0c6</td>\n",
       "      <td>Feb 27, 2021</td>\n",
       "      <td>no data</td>\n",
       "    </tr>\n",
       "    <tr>\n",
       "      <th>16</th>\n",
       "      <td>iKOMP</td>\n",
       "      <td>IKOMP</td>\n",
       "      <td>komp.app</td>\n",
       "      <td>6a625DDb2e2A2de0257C5129364dd80Bb4AfA3B9</td>\n",
       "      <td>Feb 26, 2021</td>\n",
       "      <td>no data</td>\n",
       "    </tr>\n",
       "    <tr>\n",
       "      <th>17</th>\n",
       "      <td>Infinity Yield</td>\n",
       "      <td>IFY</td>\n",
       "      <td>infinityyield.farm</td>\n",
       "      <td>f19b0aa2c998b3ea6c2bac30607d5e8e04106ee7</td>\n",
       "      <td>Feb 23, 2021</td>\n",
       "      <td>no data</td>\n",
       "    </tr>\n",
       "    <tr>\n",
       "      <th>18</th>\n",
       "      <td>Rapid Swap</td>\n",
       "      <td>RAPID</td>\n",
       "      <td>rapidswap.app</td>\n",
       "      <td>3719c13d28a5adaba97b6c343b1f51e57b6b6e7d</td>\n",
       "      <td>Feb 21, 2021</td>\n",
       "      <td>no data</td>\n",
       "    </tr>\n",
       "    <tr>\n",
       "      <th>19</th>\n",
       "      <td>Dark DeFi</td>\n",
       "      <td>DARK</td>\n",
       "      <td>darkdefi.org</td>\n",
       "      <td>2d98c5e92da2204bc2e9142373ed209a7ca9850a</td>\n",
       "      <td>Feb 20, 2021</td>\n",
       "      <td>no data</td>\n",
       "    </tr>\n",
       "    <tr>\n",
       "      <th>20</th>\n",
       "      <td>Fur Finance</td>\n",
       "      <td>FUR</td>\n",
       "      <td>fur.finance</td>\n",
       "      <td>bacdbe7cd52bdf11065210863139e9dad875a896</td>\n",
       "      <td>Feb 19, 2021</td>\n",
       "      <td>no data</td>\n",
       "    </tr>\n",
       "    <tr>\n",
       "      <th>21</th>\n",
       "      <td>PotterSwap</td>\n",
       "      <td>PSW</td>\n",
       "      <td>potterswap.org</td>\n",
       "      <td>9dcd36e6f3dd1186d902de9241e10c2c2171a2ef</td>\n",
       "      <td>Feb 15, 2021</td>\n",
       "      <td>no data</td>\n",
       "    </tr>\n",
       "    <tr>\n",
       "      <th>22</th>\n",
       "      <td>YFBitcoin (YFBTC)</td>\n",
       "      <td>YFBTC</td>\n",
       "      <td>yfbtc.net</td>\n",
       "      <td>ff034D12353867fC4228f4Ae3E689CD6dCAad120</td>\n",
       "      <td>Feb 12, 2021</td>\n",
       "      <td>no data</td>\n",
       "    </tr>\n",
       "    <tr>\n",
       "      <th>23</th>\n",
       "      <td>Shield</td>\n",
       "      <td>SHD</td>\n",
       "      <td>shielddao.app</td>\n",
       "      <td>45eefd478f1cb04c1a183c29c7bca7c50a17bb23</td>\n",
       "      <td>Feb 10, 2021</td>\n",
       "      <td>no data</td>\n",
       "    </tr>\n",
       "    <tr>\n",
       "      <th>24</th>\n",
       "      <td>KOHIMA FINANCE</td>\n",
       "      <td>KHM</td>\n",
       "      <td>kohima.finance</td>\n",
       "      <td>2e7483e8c9905f40c638987748e7e152464c6dc2</td>\n",
       "      <td>Feb 10, 2021</td>\n",
       "      <td>no data</td>\n",
       "    </tr>\n",
       "  </tbody>\n",
       "</table>\n",
       "</div>"
      ],
      "text/plain": [
       "               Project  Symbol                  Website  \\\n",
       "0           DragonBite    BITE      www.dragonbite.asia   \n",
       "1             JiX Swap     JIX              jixswap.com   \n",
       "2        Werewolf Coin     WWC        werewolf.exchange   \n",
       "3             Algoeuro    AEUR          hybridverse.com   \n",
       "4           Red Cherry    RCH         redcherry.finance   \n",
       "5       Casino Finance     CFI       casinofinance.tech   \n",
       "6           Wazir Farm     WZR               wazir.farm   \n",
       "7            BasketDAO    BASK            basketdao.org   \n",
       "8     Referral Network   REFER  referralproject.network   \n",
       "9        XTRA Protocol     XTR         xtraprotocol.com   \n",
       "10             UniFarm   UFARM               unifarm.co   \n",
       "11               Spock   SPOCK  spock.borgswap.exchange   \n",
       "12     Wasabix Finance  WASABI          wasabix.finance   \n",
       "13  Lambo Defi Network   LAMBO        lambodefi.network   \n",
       "14          Collective     CO2   thecollectivegroup.org   \n",
       "15    Yearnyfi Network     YNI         yearnyfi.network   \n",
       "16               iKOMP  IKOMP                  komp.app   \n",
       "17      Infinity Yield     IFY       infinityyield.farm   \n",
       "18          Rapid Swap   RAPID            rapidswap.app   \n",
       "19           Dark DeFi    DARK             darkdefi.org   \n",
       "20         Fur Finance     FUR              fur.finance   \n",
       "21          PotterSwap     PSW           potterswap.org   \n",
       "22   YFBitcoin (YFBTC)   YFBTC                yfbtc.net   \n",
       "23              Shield     SHD            shielddao.app   \n",
       "24      KOHIMA FINANCE     KHM           kohima.finance   \n",
       "\n",
       "                                Token_adress    Data Start     Market_Cap  \n",
       "0   4eed0fa8de12d5a86517f214c2f11586ba2ed88d  Jun 11, 2021        no data  \n",
       "1   99ab51fd0581116db20bd4cb3df1b53fbd3bae54  Apr 22, 2021        no data  \n",
       "2   38118BDB3B480F570837A4c2e88faC6E83BE6689  Apr 16, 2021        no data  \n",
       "3   3c144fc1b34fc1be809fbb2b194f460014e60113  Apr 15, 2021        no data  \n",
       "4   d183e7cc76d44b58c5a409053feef27227f4d47a  Apr 15, 2021        no data  \n",
       "5   0c4bc8D2CCeb6931304Db39ee019403c3B8fb1EF  Apr 15, 2021        no data  \n",
       "6   730d532c39a095b102120f23f278b302665086a2  Apr 07, 2021        no data  \n",
       "7   44564d0bd94343f72e3c8a0d22308b7fa71db0bb  Apr 03, 2021  [2,213,111, ]  \n",
       "8   0f4b7bec854dbdd70fdf6cf5038f2717b3110672  Apr 01, 2021        no data  \n",
       "9   fc0e2fe627c6329dc7d1fc57b43f30059665e803  Apr 01, 2021        no data  \n",
       "10  40986a85b4cfcdb054a6cbfb1210194fee51af88  Apr 01, 2021        no data  \n",
       "11  86e82313704851c6e2764bfae8276849ab28c113  Mar 24, 2021        no data  \n",
       "12  896e145568624a498c5a909187363ae947631503  Mar 23, 2021        no data  \n",
       "13  6da11821ac676d7ef8b31b2ace5d025429f5af44  Mar 20, 2021        no data  \n",
       "14  75739d5944534115d7c54ee8c73f186d793bae02  Mar 15, 2021        no data  \n",
       "15  deaa665ab71785ccf576dc76e5fcb5a2283ea0c6  Feb 27, 2021        no data  \n",
       "16  6a625DDb2e2A2de0257C5129364dd80Bb4AfA3B9  Feb 26, 2021        no data  \n",
       "17  f19b0aa2c998b3ea6c2bac30607d5e8e04106ee7  Feb 23, 2021        no data  \n",
       "18  3719c13d28a5adaba97b6c343b1f51e57b6b6e7d  Feb 21, 2021        no data  \n",
       "19  2d98c5e92da2204bc2e9142373ed209a7ca9850a  Feb 20, 2021        no data  \n",
       "20  bacdbe7cd52bdf11065210863139e9dad875a896  Feb 19, 2021        no data  \n",
       "21  9dcd36e6f3dd1186d902de9241e10c2c2171a2ef  Feb 15, 2021        no data  \n",
       "22  ff034D12353867fC4228f4Ae3E689CD6dCAad120  Feb 12, 2021        no data  \n",
       "23  45eefd478f1cb04c1a183c29c7bca7c50a17bb23  Feb 10, 2021        no data  \n",
       "24  2e7483e8c9905f40c638987748e7e152464c6dc2  Feb 10, 2021        no data  "
      ]
     },
     "execution_count": 38,
     "metadata": {},
     "output_type": "execute_result"
    }
   ],
   "source": [
    "df"
   ]
  },
  {
   "cell_type": "code",
   "execution_count": null,
   "id": "796baf1a",
   "metadata": {},
   "outputs": [],
   "source": []
  },
  {
   "cell_type": "code",
   "execution_count": 39,
   "id": "3cb709ad",
   "metadata": {},
   "outputs": [
    {
     "data": {
      "text/plain": [
       "'Project,Symbol,Website,Token_adress,Data Start,Market_Cap\\nDragonBite,BITE,www.dragonbite.asia,4eed0fa8de12d5a86517f214c2f11586ba2ed88d,\"Jun 11, 2021\",no data\\nJiX Swap,JIX,jixswap.com,99ab51fd0581116db20bd4cb3df1b53fbd3bae54,\"Apr 22, 2021\",no data\\nWerewolf Coin,WWC,werewolf.exchange,38118BDB3B480F570837A4c2e88faC6E83BE6689,\"Apr 16, 2021\",no data\\nAlgoeuro,AEUR,hybridverse.com,3c144fc1b34fc1be809fbb2b194f460014e60113,\"Apr 15, 2021\",no data\\nRed Cherry,RCH ,redcherry.finance,d183e7cc76d44b58c5a409053feef27227f4d47a,\"Apr 15, 2021\",no data\\nCasino Finance,CFI,casinofinance.tech,0c4bc8D2CCeb6931304Db39ee019403c3B8fb1EF,\"Apr 15, 2021\",no data\\nWazir Farm,WZR,wazir.farm,730d532c39a095b102120f23f278b302665086a2,\"Apr 07, 2021\",no data\\nBasketDAO,BASK,basketdao.org,44564d0bd94343f72e3c8a0d22308b7fa71db0bb,\"Apr 03, 2021\",\"[\\'2,213,111\\', \\'\\']\"\\nReferral Network,REFER,referralproject.network,0f4b7bec854dbdd70fdf6cf5038f2717b3110672,\"Apr 01, 2021\",no data\\nXTRA Protocol,XTR,xtraprotocol.com,fc0e2fe627c6329dc7d1fc57b43f30059665e803,\"Apr 01, 2021\",no data\\nUniFarm,UFARM,unifarm.co,40986a85b4cfcdb054a6cbfb1210194fee51af88,\"Apr 01, 2021\",no data\\nSpock,SPOCK,spock.borgswap.exchange,86e82313704851c6e2764bfae8276849ab28c113,\"Mar 24, 2021\",no data\\nWasabix Finance,WASABI,wasabix.finance,896e145568624a498c5a909187363ae947631503,\"Mar 23, 2021\",no data\\nLambo Defi Network,LAMBO,lambodefi.network,6da11821ac676d7ef8b31b2ace5d025429f5af44,\"Mar 20, 2021\",no data\\nCollective,CO2,thecollectivegroup.org,75739d5944534115d7c54ee8c73f186d793bae02,\"Mar 15, 2021\",no data\\nYearnyfi Network,YNI,yearnyfi.network,deaa665ab71785ccf576dc76e5fcb5a2283ea0c6,\"Feb 27, 2021\",no data\\niKOMP,IKOMP ,komp.app,6a625DDb2e2A2de0257C5129364dd80Bb4AfA3B9,\"Feb 26, 2021\",no data\\nInfinity Yield,IFY,infinityyield.farm,f19b0aa2c998b3ea6c2bac30607d5e8e04106ee7,\"Feb 23, 2021\",no data\\nRapid Swap,RAPID,rapidswap.app,3719c13d28a5adaba97b6c343b1f51e57b6b6e7d,\"Feb 21, 2021\",no data\\nDark DeFi,DARK,darkdefi.org,2d98c5e92da2204bc2e9142373ed209a7ca9850a,\"Feb 20, 2021\",no data\\nFur Finance,FUR,fur.finance,bacdbe7cd52bdf11065210863139e9dad875a896,\"Feb 19, 2021\",no data\\nPotterSwap,PSW,potterswap.org,9dcd36e6f3dd1186d902de9241e10c2c2171a2ef,\"Feb 15, 2021\",no data\\nYFBitcoin (YFBTC),YFBTC,yfbtc.net,ff034D12353867fC4228f4Ae3E689CD6dCAad120,\"Feb 12, 2021\",no data\\nShield,SHD,shielddao.app,45eefd478f1cb04c1a183c29c7bca7c50a17bb23,\"Feb 10, 2021\",no data\\nKOHIMA FINANCE,KHM,kohima.finance,2e7483e8c9905f40c638987748e7e152464c6dc2,\"Feb 10, 2021\",no data\\n'"
      ]
     },
     "execution_count": 39,
     "metadata": {},
     "output_type": "execute_result"
    }
   ],
   "source": [
    "df.to_csv(index=False, sep=',')"
   ]
  },
  {
   "cell_type": "code",
   "execution_count": 40,
   "id": "8620d493",
   "metadata": {},
   "outputs": [],
   "source": [
    "compression_opts = dict(method='zip',\n",
    "                         archive_name='out.csv')  \n",
    "df.to_csv('out.zip', index=False, sep=',',\n",
    "           compression=compression_opts)  "
   ]
  },
  {
   "cell_type": "code",
   "execution_count": null,
   "id": "13126545",
   "metadata": {},
   "outputs": [],
   "source": []
  }
 ],
 "metadata": {
  "kernelspec": {
   "display_name": "Python 3",
   "language": "python",
   "name": "python3"
  },
  "language_info": {
   "codemirror_mode": {
    "name": "ipython",
    "version": 3
   },
   "file_extension": ".py",
   "mimetype": "text/x-python",
   "name": "python",
   "nbconvert_exporter": "python",
   "pygments_lexer": "ipython3",
   "version": "3.9.0"
  }
 },
 "nbformat": 4,
 "nbformat_minor": 5
}
