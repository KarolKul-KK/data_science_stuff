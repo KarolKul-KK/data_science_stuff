{
 "cells": [
  {
   "cell_type": "code",
   "execution_count": 1,
   "id": "65e3fd36",
   "metadata": {},
   "outputs": [
    {
     "name": "stdout",
     "output_type": "stream",
     "text": [
      "....................\n",
      "Imię studenta: Jan\n",
      "Imię studenta: Maria\n",
      "Time elapsed: 0.0001168251 sec\n",
      "--------------------\n",
      "....................\n",
      "Imię studenta: Jan, indeks 111001\n",
      "Imię studenta: Maria, indeks 111002\n",
      "Time elapsed: 0.0011956692 sec\n",
      "--------------------\n"
     ]
    }
   ],
   "source": [
    "from time import time\n",
    "\n",
    "def count_time(func):\n",
    "    def dec_func(arr, *arr2):\n",
    "        print('....................')\n",
    "        x = time()\n",
    "        func(arr, *arr2)\n",
    "        y = time()\n",
    "        print(f'Time elapsed: {round(y - x, 10)} sec')\n",
    "        print('--------------------')\n",
    "    return dec_func\n",
    "\n",
    "@count_time\n",
    "def print_students_names(students):\n",
    "    for student in students:\n",
    "        print(f'Imię studenta: {student}')\n",
    "\n",
    "@count_time\n",
    "def print_students_info(students, students_indices):\n",
    "    for student, index in zip(students, students_indices):\n",
    "        print(f'Imię studenta: {student}, indeks {index}')\n",
    "\n",
    "students = ['Jan', 'Maria']\n",
    "indices = [111001, 111002]\n",
    "print_students_names(students)\n",
    "print_students_info(students, indices)"
   ]
  },
  {
   "cell_type": "code",
   "execution_count": null,
   "id": "8ead568b",
   "metadata": {},
   "outputs": [],
   "source": []
  }
 ],
 "metadata": {
  "kernelspec": {
   "display_name": "Python 3",
   "language": "python",
   "name": "python3"
  },
  "language_info": {
   "codemirror_mode": {
    "name": "ipython",
    "version": 3
   },
   "file_extension": ".py",
   "mimetype": "text/x-python",
   "name": "python",
   "nbconvert_exporter": "python",
   "pygments_lexer": "ipython3",
   "version": "3.9.0"
  }
 },
 "nbformat": 4,
 "nbformat_minor": 5
}
